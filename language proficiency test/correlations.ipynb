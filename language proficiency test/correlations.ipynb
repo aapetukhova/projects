{
 "cells": [
  {
   "cell_type": "markdown",
   "metadata": {},
   "source": [
    "For Sperman's correlation coefficient the relationship between the values is significant when p"
   ]
  },
  {
   "cell_type": "code",
   "execution_count": 2,
   "metadata": {},
   "outputs": [],
   "source": [
    "from scipy import stats"
   ]
  },
  {
   "cell_type": "code",
   "execution_count": 10,
   "metadata": {},
   "outputs": [],
   "source": [
    "# data\n",
    "# subjective evaluation scores for each language\n",
    "soc_rus = [100, 100, 100, 100]\n",
    "soc_yak = [100, 100, 83, 92]\n",
    "\n",
    "# objective evaluation scores for each language\n",
    "test_rus = [96, 98, 88, 93]\n",
    "test_yak = [92, 78, 61, 80]\n",
    "\n",
    "# percentage of intrasententional code switches per all code switches in informant's speech\n",
    "intra = [31, 29, 37, 31]\n",
    "\n",
    "# biingualism index score\n",
    "bis_soc = [1, 1, 0.83, 0.92]\n",
    "bis_test = [0.96, 0.80, 0.69, 0.85]\n",
    "\n",
    "# scores in grammar test\n",
    "gram_rus = [100, 89, 100, 100]\n",
    "gram_yak = [80, 80, 30, 70]"
   ]
  },
  {
   "cell_type": "code",
   "execution_count": 4,
   "metadata": {},
   "outputs": [
    {
     "data": {
      "text/plain": [
       "SpearmanrResult(correlation=0.632455532033676, pvalue=0.367544467966324)"
      ]
     },
     "execution_count": 4,
     "metadata": {},
     "output_type": "execute_result"
    }
   ],
   "source": [
    "# 4.4.1\n",
    "# subjective VS objective scores for Yakut\n",
    "stats.spearmanr(soc_yak, test_yak)"
   ]
  },
  {
   "cell_type": "code",
   "execution_count": 8,
   "metadata": {},
   "outputs": [
    {
     "data": {
      "text/plain": [
       "SpearmanrResult(correlation=-0.8333333333333335, pvalue=0.16666666666666646)"
      ]
     },
     "execution_count": 8,
     "metadata": {},
     "output_type": "execute_result"
    }
   ],
   "source": [
    "# 4.4.2\n",
    "# intrasententional codeswitches VS the subjective level of bilingualism \n",
    "stats.spearmanr(bis_soc, intra)"
   ]
  },
  {
   "cell_type": "code",
   "execution_count": 9,
   "metadata": {},
   "outputs": [
    {
     "data": {
      "text/plain": [
       "SpearmanrResult(correlation=-0.316227766016838, pvalue=0.683772233983162)"
      ]
     },
     "execution_count": 9,
     "metadata": {},
     "output_type": "execute_result"
    }
   ],
   "source": [
    "# 4.4.2\n",
    "# intrasententional codeswitches VS the objective level of bilingualism \n",
    "stats.spearmanr(bis_test, intra)"
   ]
  },
  {
   "cell_type": "code",
   "execution_count": 11,
   "metadata": {},
   "outputs": [
    {
     "data": {
      "text/plain": [
       "SpearmanrResult(correlation=0.8164965809277261, pvalue=0.1835034190722738)"
      ]
     },
     "execution_count": 11,
     "metadata": {},
     "output_type": "execute_result"
    }
   ],
   "source": [
    "# 4.4.3\n",
    "# intrasententional codeswitches VS the score for Russian grammar\n",
    "stats.spearmanr(gram_rus, intra)"
   ]
  },
  {
   "cell_type": "code",
   "execution_count": 12,
   "metadata": {},
   "outputs": [
    {
     "data": {
      "text/plain": [
       "SpearmanrResult(correlation=-0.8333333333333335, pvalue=0.16666666666666646)"
      ]
     },
     "execution_count": 12,
     "metadata": {},
     "output_type": "execute_result"
    }
   ],
   "source": [
    "# 4.4.3\n",
    "# intrasententional codeswitches VS the score for Yakut grammar\n",
    "stats.spearmanr(gram_yak, intra)"
   ]
  }
 ],
 "metadata": {
  "kernelspec": {
   "display_name": "Python 3",
   "language": "python",
   "name": "python3"
  },
  "language_info": {
   "codemirror_mode": {
    "name": "ipython",
    "version": 3
   },
   "file_extension": ".py",
   "mimetype": "text/x-python",
   "name": "python",
   "nbconvert_exporter": "python",
   "pygments_lexer": "ipython3",
   "version": "3.7.0"
  }
 },
 "nbformat": 4,
 "nbformat_minor": 2
}
