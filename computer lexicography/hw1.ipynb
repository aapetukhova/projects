{
 "cells": [
  {
   "cell_type": "code",
   "execution_count": 41,
   "metadata": {},
   "outputs": [],
   "source": [
    "import re\n",
    "import gensim\n",
    "import logging\n",
    "import pandas as pd\n",
    "import urllib.request\n",
    "from bs4 import BeautifulSoup\n",
    "import numpy as np\n",
    "from scipy import spatial\n",
    "import matplotlib.pyplot as plt\n",
    "import scipy\n",
    "import scipy.cluster.hierarchy as hcluster\n",
    "from sklearn.cluster import KMeans\n",
    "import collections\n",
    "from heapq import nsmallest\n",
    "import zipfile\n",
    "\n",
    "import warnings\n",
    "warnings.filterwarnings('ignore')\n"
   ]
  },
  {
   "cell_type": "code",
   "execution_count": 3,
   "metadata": {},
   "outputs": [],
   "source": [
    "with open('vps.txt', 'r', encoding='utf-8') as f:\n",
    "    text = f.readlines()\n"
   ]
  },
  {
   "cell_type": "code",
   "execution_count": 4,
   "metadata": {},
   "outputs": [],
   "source": [
    "# returns a ist of verb phrases\n",
    "\n",
    "\n",
    "def get_verb_phrases(text):\n",
    "    verb_phrases = []\n",
    "    for line in text:\n",
    "        vp = re.search('(.+?)\\t', line)\n",
    "        if vp:\n",
    "            verb_phrases.append(vp.group(1))\n",
    "    return verb_phrases\n"
   ]
  },
  {
   "cell_type": "code",
   "execution_count": 5,
   "metadata": {},
   "outputs": [],
   "source": [
    "verb_phrases = get_verb_phrases(text)\n"
   ]
  },
  {
   "cell_type": "code",
   "execution_count": 6,
   "metadata": {},
   "outputs": [],
   "source": [
    "# 1, 2\n",
    "# returns a list of verb phrase vectors\n",
    "\n",
    "\n",
    "def get_vectors(text):\n",
    "    vectors_list = []\n",
    "    # downloading and extracting model\n",
    "    # urllib.request.urlretrieve('http://vectors.nlpl.eu/repository/20/180.zip')\n",
    "    # with zipfile.ZipFile('./', 'r') as zip_ref:\n",
    "    #     zip_ref.extractall('./')\n",
    "    # file 'model.bin' is in the same directory with the hw1.ipynb file\n",
    "    m = 'model.bin'\n",
    "    model = gensim.models.KeyedVectors.load_word2vec_format(m, binary=True)\n",
    "    verb = re.search('([а-я]+?)_', text[0])\n",
    "    if verb:\n",
    "        v_query = verb.group(1) + '_VERB'\n",
    "        if v_query in model:\n",
    "            v_vec = model[v_query]\n",
    "    for line in text:\n",
    "        noun = re.search('_([а-я]+)', line)\n",
    "        if noun:\n",
    "            n_query = noun.group(1) + '_NOUN'\n",
    "            if n_query in model:\n",
    "                n_vec = model[n_query]\n",
    "        vectors_list.append(v_vec + n_vec)\n",
    "    return vectors_list\n"
   ]
  },
  {
   "cell_type": "code",
   "execution_count": 7,
   "metadata": {},
   "outputs": [],
   "source": [
    "vectors = get_vectors(text)\n",
    "matrix = np.array(vectors)\n"
   ]
  },
  {
   "cell_type": "code",
   "execution_count": 8,
   "metadata": {},
   "outputs": [],
   "source": [
    "# 3.2\n",
    "# this function returns a dictionary of cluster number: verb phrase vector\n",
    "# only clusters with 2 or more elements are included in the dictionary\n",
    "\n",
    "\n",
    "def get_clusters(clusters, matrix):\n",
    "    clus = {}\n",
    "    trimmed_clus = {}\n",
    "    for i in range(len(clusters)):\n",
    "        if clusters[i] not in clus.keys():\n",
    "            clus[clusters[i]] = []\n",
    "        clus[clusters[i]].append(matrix[i])\n",
    "    for key, value in clus.items():\n",
    "        if len(value) >= 2:\n",
    "            trimmed_clus[key] = value\n",
    "    return trimmed_clus\n"
   ]
  },
  {
   "cell_type": "code",
   "execution_count": 12,
   "metadata": {},
   "outputs": [
    {
     "name": "stdout",
     "output_type": "stream",
     "text": [
      "step: 0.0 118\n",
      "step: 0.1 118\n",
      "step: 0.2 118\n",
      "step: 0.30000000000000004 118\n",
      "step: 0.4 118\n",
      "step: 0.5 118\n",
      "step: 0.6000000000000001 118\n",
      "step: 0.7000000000000001 118\n",
      "step: 0.8 85\n",
      "step: 0.9 50\n",
      "step: 1.0 1\n",
      "step: 1.1 1\n",
      "step: 1.2000000000000002 1\n",
      "step: 1.3 1\n",
      "step: 1.4000000000000001 1\n",
      "step: 1.5 1\n",
      "step: 1.6 1\n",
      "step: 1.7000000000000002 1\n",
      "step: 1.8 1\n",
      "step: 1.9000000000000001 1\n",
      "step: 2.0 1\n"
     ]
    }
   ],
   "source": [
    "# let's find the optimum of clusters for hierarchic clustering\n",
    "# increment t by 0.1 from 0 to 2\n",
    "\n",
    "Z = hcluster.linkage(matrix)\n",
    "N = np.linspace(0.0, 2.0, 21)\n",
    "for n in N:\n",
    "    hierarchic = hcluster.fcluster(Z, n)\n",
    "    print('step:', n, len(set(hierarchic)))\n"
   ]
  },
  {
   "cell_type": "markdown",
   "metadata": {},
   "source": [
    "Оптимальное значение t=0.9, при бОльших значених все фразы попадут в один огромный кластер, а при меньших будет слишком много кластеров. При 50 кластерах в каждом кластере будет хотя бы по 3 глагола в группе."
   ]
  },
  {
   "cell_type": "code",
   "execution_count": 39,
   "metadata": {},
   "outputs": [],
   "source": [
    "# 3.3\n",
    "# hierarchic clustering\n",
    "\n",
    "Z = hcluster.linkage(matrix)\n",
    "hierarchic = hcluster.fcluster(Z, 0.9)\n",
    "hierarchic_dict = get_clusters(hierarchic, matrix)\n"
   ]
  },
  {
   "cell_type": "code",
   "execution_count": 38,
   "metadata": {},
   "outputs": [],
   "source": [
    "# let's find out what is an optimum k via the sum of squared distances\n",
    "\n",
    "sd = []\n",
    "K = range(1, 50)\n",
    "for k in K:\n",
    "    kmeans = KMeans(n_clusters=k).fit(matrix)\n",
    "    sd.append(kmeans.inertia_)\n"
   ]
  },
  {
   "cell_type": "code",
   "execution_count": 15,
   "metadata": {},
   "outputs": [
    {
     "data": {
      "image/png": "[encoded data removed]",
      "text/plain": [
       "<Figure size 432x288 with 1 Axes>"
      ]
     },
     "metadata": {
      "needs_background": "light"
     },
     "output_type": "display_data"
    }
   ],
   "source": [
    "# drawing the curve\n",
    "\n",
    "plt.plot(K, sd)\n",
    "plt.xlabel('k')\n",
    "plt.ylabel('Sum of squared distances')\n",
    "plt.title('Elbow Method For Optimal k')\n",
    "plt.show()\n"
   ]
  },
  {
   "cell_type": "markdown",
   "metadata": {},
   "source": [
    "Для поиска оптимального значения порога я воспользовалась методом elbow. График становится более гладким после преодоления k=10."
   ]
  },
  {
   "cell_type": "code",
   "execution_count": 36,
   "metadata": {},
   "outputs": [],
   "source": [
    "# 3.4 kMeans clustering\n",
    "\n",
    "kmeans = KMeans(n_clusters=10).fit(matrix)\n",
    "kmeans_dict = get_clusters(kmeans.labels_, matrix)\n"
   ]
  },
  {
   "cell_type": "code",
   "execution_count": 24,
   "metadata": {},
   "outputs": [],
   "source": [
    "# 4\n",
    "# prints groups of three verb phrases which vectors belong to the same cluster\n",
    "# cosine similarity is used as a measure of closeness\n",
    "\n",
    "\n",
    "def get_center(clusters_dict, verb_phrases, vectors):\n",
    "    v_index = []\n",
    "    cos = []\n",
    "    for key, value in clusters_dict.items():\n",
    "        # calculating a mean through all vectors of a cluster\n",
    "        mean = np.mean(value, axis=0)\n",
    "        # for each vector we calculate a cosine similarity between a mean and a vector\n",
    "        for v in value:\n",
    "            cos_sim = 1 - spatial.distance.cosine(mean, v)\n",
    "            cos.append(cos_sim)\n",
    "            v_index.append(v)\n",
    "        closest = nsmallest(3, cos)\n",
    "        for c in closest:\n",
    "            # index of a vector in v_index - which cos_sim belongs to which vector\n",
    "            index = np.where(cos == c)[0][0]\n",
    "            # found this vector\n",
    "            vector = v_index[index]\n",
    "            # now find the verb phrase based on a vector\n",
    "            vp_index = np.where(vectors == vector)[0][0]\n",
    "            print(verb_phrases[vp_index], end=', ')\n",
    "        print('\\r')\n"
   ]
  },
  {
   "cell_type": "code",
   "execution_count": 40,
   "metadata": {},
   "outputs": [
    {
     "name": "stdout",
     "output_type": "stream",
     "text": [
      "Clusters via hierarchic clustering:\n",
      "вести_наступление, вести_бой, вести_противник, \r\n",
      "вести_аллея, вести_лестница, вести_дорога, \r\n",
      "вести_аллея, вести_лестница, вести_дорога, \r\n",
      "вести_аллея, вести_лестница, вести_дорога, \r\n",
      "вести_аллея, вести_лестница, вести_дорога, \r\n",
      "вести_аллея, вести_лестница, вести_дорога, \r\n",
      "вести_аллея, вести_лестница, вести_дорога, \r\n",
      "вести_аллея, вести_лестница, вести_дорога, \r\n",
      "вести_аллея, вести_лестница, вести_дорога, \r\n",
      "вести_аллея, вести_лестница, вести_дорога, \r\n",
      "вести_аллея, вести_лестница, вести_дорога, \r\n",
      "вести_аллея, вести_лестница, вести_дорога, \r\n"
     ]
    }
   ],
   "source": [
    "# 5\n",
    "\n",
    "print('Clusters via hierarchic clustering:')\n",
    "get_center(hierarchic_dict, verb_phrases, vectors)\n"
   ]
  },
  {
   "cell_type": "markdown",
   "metadata": {},
   "source": [
    "Получившиеся группы довольно однородны: группа *вести наступление, вести бой, вести противник* связана с управлением и семантикой военных действий, а группа *вести аллея, вести лестница, вести дорога* - с направлением. Однако проиллюстрированы далеко не все значения глагола, более того, почти ко всем центрам кластеров оказались близки значения направления, что может объясняться распространенностью глагола *вести* в этом значении в модели."
   ]
  },
  {
   "cell_type": "code",
   "execution_count": 37,
   "metadata": {},
   "outputs": [
    {
     "name": "stdout",
     "output_type": "stream",
     "text": [
      "Clusters via hierarchic clustering:\n",
      "вести_умение, вести_роль, вести_кружок, \r\n",
      "вести_умение, вести_роль, вести_кружок, \r\n",
      "вести_умение, вести_роль, вести_кружок, \r\n",
      "вести_умение, вести_роль, вести_кружок, \r\n",
      "вести_год, вести_день, вести_след, \r\n",
      "вести_рука, вести_год, вести_день, \r\n",
      "вести_рука, вести_год, вести_день, \r\n",
      "вести_рука, вести_год, вести_день, \r\n",
      "вести_рука, вести_год, вести_день, \r\n",
      "вести_рука, вести_год, вести_день, \r\n"
     ]
    }
   ],
   "source": [
    "print('Clusters via hierarchic clustering:')\n",
    "get_center(kmeans_dict, verb_phrases, vectors)\n"
   ]
  },
  {
   "cell_type": "markdown",
   "metadata": {},
   "source": [
    "Первая группа словосочетаний также иллюстрирует значение руководства глагола *вести* с семантикой образования. Далее идет кластер со значением *осуществлять*. Не думаю, что этим исчерпаны все значения многозначного глагола, однако возможно это особенность модели.\n",
    "В целом разные методы кластаризации показали различные, хотя местами схожие результаты. "
   ]
  }
 ],
 "metadata": {
  "kernelspec": {
   "display_name": "Python 3",
   "language": "python",
   "name": "python3"
  },
  "language_info": {
   "codemirror_mode": {
    "name": "ipython",
    "version": 3
   },
   "file_extension": ".py",
   "mimetype": "text/x-python",
   "name": "python",
   "nbconvert_exporter": "python",
   "pygments_lexer": "ipython3",
   "version": "3.7.0"
  }
 },
 "nbformat": 4,
 "nbformat_minor": 2
}
