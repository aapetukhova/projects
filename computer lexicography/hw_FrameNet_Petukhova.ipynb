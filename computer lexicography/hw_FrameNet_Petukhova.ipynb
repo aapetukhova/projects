{
 "cells": [
  {
   "cell_type": "markdown",
   "metadata": {},
   "source": [
    "Найдите все фреймы, в число ядерных (Core) элементов которых входит участник с ролью начальной точки перемещения (Source)."
   ]
  },
  {
   "cell_type": "code",
   "execution_count": 1,
   "metadata": {},
   "outputs": [
    {
     "name": "stderr",
     "output_type": "stream",
     "text": [
      "[nltk_data] Downloading package framenet_v17 to\n",
      "[nltk_data]     C:\\Users\\annap\\AppData\\Roaming\\nltk_data...\n",
      "[nltk_data]   Unzipping corpora\\framenet_v17.zip.\n"
     ]
    },
    {
     "data": {
      "text/plain": [
       "True"
      ]
     },
     "execution_count": 1,
     "metadata": {},
     "output_type": "execute_result"
    }
   ],
   "source": [
    "import nltk\n",
    "nltk.download('framenet_v17')"
   ]
  },
  {
   "cell_type": "code",
   "execution_count": 1,
   "metadata": {},
   "outputs": [],
   "source": [
    "from nltk.corpus import framenet as fn"
   ]
  },
  {
   "cell_type": "code",
   "execution_count": 4,
   "metadata": {},
   "outputs": [
    {
     "name": "stdout",
     "output_type": "stream",
     "text": [
      "Frames that have A Source in Core elements:\n",
      "Becoming_detached\n",
      "Being_detached\n",
      "Bringing\n",
      "Cause_fluidic_motion\n",
      "Cause_motion\n",
      "Container_focused_removing\n",
      "Correctness\n",
      "Cotheme\n",
      "Departing\n",
      "Detaching\n",
      "Emanating\n",
      "Emptying\n",
      "Excreting\n",
      "Fleeing\n",
      "Fluidic_motion\n",
      "Food_gathering\n",
      "Getting_underway\n",
      "Getting_vehicle_underway\n",
      "Intentional_traversing\n",
      "Level_of_light\n",
      "Light_movement\n",
      "Mass_motion\n",
      "Motion\n",
      "Motion_directional\n",
      "Motion_noise\n",
      "Motion_scenario\n",
      "Operate_vehicle\n",
      "Operate_vehicle_scenario\n",
      "Optical_image\n",
      "Passing\n",
      "Path_shape\n",
      "Planned_trajectory\n",
      "Quitting_a_place\n",
      "Removing\n",
      "Removing_scenario\n",
      "Ride_vehicle\n",
      "Robbery\n",
      "Self_motion\n",
      "Sensation\n",
      "Setting_out\n",
      "Smuggling\n",
      "Source_of_getting\n",
      "Source_path_goal\n",
      "Taking\n",
      "Theft\n",
      "Travel\n",
      "Traversing\n",
      "Use_vehicle\n",
      "Vehicle_departure_initial_stage\n",
      "Visiting_scenario_departing\n",
      "Visitor_departure\n"
     ]
    }
   ],
   "source": [
    "print('Frames that have A Source in Core elements:')\n",
    "for frame in fn.frames():\n",
    "    try:\n",
    "        if frame['FE']['Source']['coreType'] == 'Core':\n",
    "            print(frame.name)\n",
    "    except:\n",
    "        pass"
   ]
  }
 ],
 "metadata": {
  "kernelspec": {
   "display_name": "Python 3",
   "language": "python",
   "name": "python3"
  },
  "language_info": {
   "codemirror_mode": {
    "name": "ipython",
    "version": 3
   },
   "file_extension": ".py",
   "mimetype": "text/x-python",
   "name": "python",
   "nbconvert_exporter": "python",
   "pygments_lexer": "ipython3",
   "version": "3.7.0"
  }
 },
 "nbformat": 4,
 "nbformat_minor": 2
}
