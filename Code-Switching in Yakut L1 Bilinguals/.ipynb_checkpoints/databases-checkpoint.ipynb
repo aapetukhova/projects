{
 "cells": [
  {
   "cell_type": "code",
   "execution_count": 3,
   "metadata": {},
   "outputs": [
    {
     "ename": "ValueError",
     "evalue": "min() arg is an empty sequence",
     "output_type": "error",
     "traceback": [
      "\u001b[1;31m---------------------------------------------------------------------------\u001b[0m",
      "\u001b[1;31mValueError\u001b[0m                                Traceback (most recent call last)",
      "\u001b[1;32m<ipython-input-3-e49d7c0c48cc>\u001b[0m in \u001b[0;36m<module>\u001b[1;34m\u001b[0m\n\u001b[0;32m      8\u001b[0m \u001b[1;32mfor\u001b[0m \u001b[0mfile\u001b[0m \u001b[1;32min\u001b[0m \u001b[0mfilenames\u001b[0m\u001b[1;33m:\u001b[0m\u001b[1;33m\u001b[0m\u001b[0m\n\u001b[0;32m      9\u001b[0m     \u001b[0mb\u001b[0m \u001b[1;33m=\u001b[0m \u001b[0mtgio\u001b[0m\u001b[1;33m.\u001b[0m\u001b[0mopenTextgrid\u001b[0m\u001b[1;33m(\u001b[0m\u001b[0mfile\u001b[0m\u001b[1;33m)\u001b[0m\u001b[1;33m\u001b[0m\u001b[0m\n\u001b[1;32m---> 10\u001b[1;33m     \u001b[0mcombinedTG\u001b[0m \u001b[1;33m=\u001b[0m \u001b[0ma\u001b[0m\u001b[1;33m.\u001b[0m\u001b[0mappendTextgrid\u001b[0m\u001b[1;33m(\u001b[0m\u001b[0mb\u001b[0m\u001b[1;33m,\u001b[0m \u001b[1;32mTrue\u001b[0m\u001b[1;33m)\u001b[0m\u001b[1;33m\u001b[0m\u001b[0m\n\u001b[0m\u001b[0;32m     11\u001b[0m \u001b[0mcombinedTG\u001b[0m\u001b[1;33m.\u001b[0m\u001b[0msave\u001b[0m\u001b[1;33m(\u001b[0m\u001b[1;34m\"all.TextGrid\"\u001b[0m\u001b[1;33m)\u001b[0m\u001b[1;33m\u001b[0m\u001b[0m\n",
      "\u001b[1;32mc:\\users\\annap\\miniconda3\\lib\\site-packages\\praatio\\tgio.py\u001b[0m in \u001b[0;36mappendTextgrid\u001b[1;34m(self, tg, onlyMatchingNames)\u001b[0m\n\u001b[0;32m   1210\u001b[0m                                             maxTimestamp=maxTime)\n\u001b[0;32m   1211\u001b[0m \u001b[1;33m\u001b[0m\u001b[0m\n\u001b[1;32m-> 1212\u001b[1;33m                 \u001b[0mappendTier\u001b[0m \u001b[1;33m=\u001b[0m \u001b[0mappendTier\u001b[0m\u001b[1;33m.\u001b[0m\u001b[0meditTimestamps\u001b[0m\u001b[1;33m(\u001b[0m\u001b[0mself\u001b[0m\u001b[1;33m.\u001b[0m\u001b[0mmaxTimestamp\u001b[0m\u001b[1;33m)\u001b[0m\u001b[1;33m\u001b[0m\u001b[0m\n\u001b[0m\u001b[0;32m   1213\u001b[0m \u001b[1;33m\u001b[0m\u001b[0m\n\u001b[0;32m   1214\u001b[0m                 \u001b[1;32mif\u001b[0m \u001b[0mtierName\u001b[0m \u001b[1;32min\u001b[0m \u001b[0mretTG\u001b[0m\u001b[1;33m.\u001b[0m\u001b[0mtierNameList\u001b[0m\u001b[1;33m:\u001b[0m\u001b[1;33m\u001b[0m\u001b[0m\n",
      "\u001b[1;32mc:\\users\\annap\\miniconda3\\lib\\site-packages\\praatio\\tgio.py\u001b[0m in \u001b[0;36meditTimestamps\u001b[1;34m(self, offset, allowOvershoot)\u001b[0m\n\u001b[0;32m    826\u001b[0m \u001b[1;33m\u001b[0m\u001b[0m\n\u001b[0;32m    827\u001b[0m         \u001b[1;31m# Determine new min and max timestamps\u001b[0m\u001b[1;33m\u001b[0m\u001b[1;33m\u001b[0m\u001b[0m\n\u001b[1;32m--> 828\u001b[1;33m         \u001b[0mnewMin\u001b[0m \u001b[1;33m=\u001b[0m \u001b[0mmin\u001b[0m\u001b[1;33m(\u001b[0m\u001b[1;33m[\u001b[0m\u001b[0mentry\u001b[0m\u001b[1;33m[\u001b[0m\u001b[1;36m0\u001b[0m\u001b[1;33m]\u001b[0m \u001b[1;32mfor\u001b[0m \u001b[0mentry\u001b[0m \u001b[1;32min\u001b[0m \u001b[0mnewEntryList\u001b[0m\u001b[1;33m]\u001b[0m\u001b[1;33m)\u001b[0m\u001b[1;33m\u001b[0m\u001b[0m\n\u001b[0m\u001b[0;32m    829\u001b[0m         \u001b[0mnewMax\u001b[0m \u001b[1;33m=\u001b[0m \u001b[0mmax\u001b[0m\u001b[1;33m(\u001b[0m\u001b[1;33m[\u001b[0m\u001b[0mentry\u001b[0m\u001b[1;33m[\u001b[0m\u001b[1;36m1\u001b[0m\u001b[1;33m]\u001b[0m \u001b[1;32mfor\u001b[0m \u001b[0mentry\u001b[0m \u001b[1;32min\u001b[0m \u001b[0mnewEntryList\u001b[0m\u001b[1;33m]\u001b[0m\u001b[1;33m)\u001b[0m\u001b[1;33m\u001b[0m\u001b[0m\n\u001b[0;32m    830\u001b[0m \u001b[1;33m\u001b[0m\u001b[0m\n",
      "\u001b[1;31mValueError\u001b[0m: min() arg is an empty sequence"
     ]
    }
   ],
   "source": [
    "# this code compiles all Textgrids from smaller files to a big one 'all.TextGrid', which will be used further\n",
    "\n",
    "from praatio import tgio\n",
    "\n",
    "\n",
    "filenames = ['game_885-1785_UPD.TextGrid', 'game_1785-2605_UPD.TextGrid', 'game_2605-3500_UPD.TextGrid', 'game_3500-4400_UPD.TextGrid', 'game_4400-5300_UPD.TextGrid']\n",
    "a = tgio.openTextgrid('game_1-885_UPD.TextGrid')\n",
    "for file in filenames:\n",
    "    b = tgio.openTextgrid(file)\n",
    "    combinedTG = a.appendTextgrid(b, True)\n",
    "combinedTG.save(\"all.TextGrid\")"
   ]
  },
  {
   "cell_type": "code",
   "execution_count": null,
   "metadata": {},
   "outputs": [],
   "source": [
    "# this code creates a database 'oredered.db' for ordered utterances, otherwise they will not be saved\n",
    "import sqlite3\n",
    "\n",
    "conn = sqlite3.connect('oredered.db')\n",
    "c = conn.cursor()\n",
    "c.execute('CREATE TABLE IF NOT EXISTS new(start_point float, replic text, speaker integer, language text, inter integer)')\n",
    "conn.close()"
   ]
  },
  {
   "cell_type": "code",
   "execution_count": null,
   "metadata": {},
   "outputs": [],
   "source": [
    "# this code creates a database 'oredered.db', consisted from speakers' utterances ordered by time\n",
    "# structure of the database: start point, utterance, speaker, language, instance of intersententional code-switch\n",
    "# languages:\n",
    "#     'R' - russian\n",
    "#     'Y' - yakut\n",
    "#     'CR' - game names\n",
    "#     'CS' - utterances with intrasententional code-switch\n",
    "#     'N' - not clear utterances\n",
    "\n",
    "def utterances_db():\n",
    "    conn = sqlite3.connect('utterances.db')\n",
    "    c = conn.cursor()\n",
    "    c.execute('CREATE TABLE IF NOT EXISTS utterances(start_point float, utterance text, speaker integer, language text, CS integer)')\n",
    "#   list for time points of code-switch\n",
    "    cs_list = []\n",
    "    tg = tgio.openTextgrid('all.TextGrid')\n",
    "#   reading tier with intersententional code-sitches\n",
    "    cs = tg.tierDict[tg.tierNameList[20]]\n",
    "    cs_list.extend([entry[0] for entry in cs.entryList])\n",
    "#   iterating through speakers\n",
    "    for i in range (0, 16, 5):\n",
    "#       list of speakers' starting points\n",
    "        starting_point = []\n",
    "#       list of utterances\n",
    "        utterance = []\n",
    "        a = tg.tierDict[tg.tierNameList[i]]\n",
    "#       reading tier with words in russian\n",
    "        rus = tg.tierDict[tg.tierNameList[i + 1]]\n",
    "#       reading tier with words in yakut\n",
    "        ykt = tg.tierDict[tg.tierNameList[i + 2]]\n",
    "        rus_start_point = [entry[0] for entry in rus.entryList]\n",
    "        rus_end_point = [entry[1] for entry in rus.entryList]\n",
    "        ykt_start_point = [entry[0] for entry in ykt.entryList]\n",
    "        ykt_end_point = [entry[1] for entry in ykt.entryList]\n",
    "#       distinguishing languages and marking code-switch\n",
    "        for start_point, end_point, label in a.entryList:\n",
    "            inter = 0\n",
    "            if s_point in cster_list:\n",
    "                inter = 1\n",
    "            if start_point in rus_start_points and end_point in rus_end_point:\n",
    "                language = 'R'\n",
    "            elif start_point in ykt_start_point and end_point in ykt_end_point:\n",
    "                language = 'Y'\n",
    "            elif start_point in rus_start_point and end_point in ykt_end_point:\n",
    "                language = 'CS'\n",
    "            elif start_point in ykt_start_point and end_point in rus_end_point:\n",
    "                language = 'CS'\n",
    "            else:\n",
    "                language = 'N'\n",
    "            c.execute('INSERT INTO utterances VALUES (?, ?, ?, ?, ?)', (start_point, label, i, language, inter))  \n",
    "        conn.commit()\n",
    "#   saving ordered database\n",
    "    c.execute('ATTACH DATABASE \"oredered.db\" as oredered')\n",
    "    c.execute('INSERT INTO oredered SELECT * FROM utterances ORDER BY start_point ASC')\n",
    "    conn.commit()\n",
    "    conn.close()\n",
    "    \n",
    "utterances()\n"
   ]
  },
  {
   "cell_type": "code",
   "execution_count": null,
   "metadata": {},
   "outputs": [],
   "source": [
    "# this code creates a databes of utterance pairs 'turns.db': an utterance followed by other speaker's utterance\n",
    "# 'L[eft]' is for everything connected with a person who talked earlier, 'R[ight]' - later\n",
    "# structure: start point L, intersententional code-switch L, speaker L, utterance L, language L, and the same for the spaker R, but reversed\n",
    "def turns():\n",
    "    conn = sqlite3.connect('ordered.db')\n",
    "    c = conn.cursor()   \n",
    "    c.execute('SELECT * FROM ordered')\n",
    "    a = c.fetchall()\n",
    "    conn.close()\n",
    "    n = len(a)\n",
    "    conn = sqlite3.connect('turns.db')\n",
    "    c = conn.cursor() \n",
    "    c.execute('CREATE TABLE IF NOT EXISTS turns(start_pointL float, CSL integer, speakerL integer, replicL text, languageL text, languageR text, replicR text, speakerR integer, CSR integer, start_pointR float)')\n",
    "    for i in range (0, n - 1):\n",
    "        if a[i][2] != a[i + 1][2]:\n",
    "            c.execute('INSERT INTO turns VALUES (?, ?, ?, ?, ?, ?, ?, ?, ?, ?, ?, ?)', (a[i][0], a[i][4], a[i][2], a[i][1], a[i][3], a[i + 1][3], a[i + 1][1], a[i + 1][2], a[i + 1][4], a[i + 1][0]))\n",
    "        conn.commit()\n",
    "    conn.close()\n",
    "\n",
    "turns()"
   ]
  }
 ],
 "metadata": {
  "kernelspec": {
   "display_name": "Python 3",
   "language": "python",
   "name": "python3"
  },
  "language_info": {
   "codemirror_mode": {
    "name": "ipython",
    "version": 3
   },
   "file_extension": ".py",
   "mimetype": "text/x-python",
   "name": "python",
   "nbconvert_exporter": "python",
   "pygments_lexer": "ipython3",
   "version": "3.7.0"
  }
 },
 "nbformat": 4,
 "nbformat_minor": 2
}
