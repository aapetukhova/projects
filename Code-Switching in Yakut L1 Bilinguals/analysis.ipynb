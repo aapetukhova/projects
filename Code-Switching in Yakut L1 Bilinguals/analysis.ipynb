{
 "cells": [
  {
   "cell_type": "code",
   "execution_count": 1,
   "metadata": {},
   "outputs": [],
   "source": [
    "import collections\n",
    "from praatio import tgio\n"
   ]
  },
  {
   "cell_type": "markdown",
   "metadata": {},
   "source": [
    "speaker_num = number of the speaker\n",
    "speakers:\n",
    "    0 - speaker 1\n",
    "    5 - speaker 2\n",
    "    10 - speaker 3\n",
    "    15 - speaker 4\n",
    "\n",
    "cs_num = 20 for intersententional code-switches - code-switches between utterances\n",
    "cs_num = 21 for intrasententional code-switches - code-switches within an utterance"
   ]
  },
  {
   "cell_type": "code",
   "execution_count": 2,
   "metadata": {},
   "outputs": [],
   "source": [
    "# the function returns a list of code-switching markers ('r' for code-switches to Russian and 'y' for code-switches to Yakut)\n",
    "\n",
    "\n",
    "def CodeSwitchCounter(tg, cs_num):\n",
    "    cs = tg.tierDict[tg.tierNameList[cs_num]]\n",
    "    # list of code-switch languages\n",
    "    cs_list = [entry[1] for entry in cs.entryList]\n",
    "    return cs_list\n"
   ]
  },
  {
   "cell_type": "code",
   "execution_count": 3,
   "metadata": {},
   "outputs": [
    {
     "name": "stdout",
     "output_type": "stream",
     "text": [
      "Counter({'r': 553, 'y': 457, 'e': 18}) Counter({'y': 300, 'r': 203, 'e': 4})\n"
     ]
    }
   ],
   "source": [
    "# counts code-switching instances in corpus\n",
    "\n",
    "# .TextGrid files\n",
    "files = ['1-885', '885-1785', '1785-2605', '2605-3500', '3500-4400', '4400-5300', '5300-6200', '6200-7100']\n",
    "inter_CS = []\n",
    "intra_CS = []\n",
    "for file in files:\n",
    "    filename = 'game_' + file + '_UPD.TextGrid'    \n",
    "    tg = tgio.openTextgrid(filename)\n",
    "    inter_CS.extend(CodeSwitchCounter(tg, 20))\n",
    "    intra_CS.extend(CodeSwitchCounter(tg, 21))\n",
    "inter_counter = collections.Counter(inter_CS)\n",
    "intra_counter = collections.Counter(intra_CS)\n",
    "print(inter_counter, intra_counter)\n"
   ]
  },
  {
   "cell_type": "code",
   "execution_count": 4,
   "metadata": {},
   "outputs": [],
   "source": [
    "# the function returns a list of inersententional code-switches of one speaker\n",
    "\n",
    "def SpeakerInterCounter(tg, speaker):\n",
    "    is_list = []\n",
    "    language_list = []\n",
    "    utterances = tg.tierDict[tg.tierNameList[speaker]]\n",
    "    u_list = [entry[0] for entry in utterances.entryList]\n",
    "    inter = tg.tierDict[tg.tierNameList[20]]\n",
    "    inter_list = [entry[0] for entry in inter.entryList]      \n",
    "    for entry in u_list:\n",
    "        if entry in inter_list:\n",
    "            is_list.append(entry)               \n",
    "    for entry in is_list:\n",
    "        language_list.extend([label for point, label in inter.entryList if entry == point])\n",
    "    return language_list\n"
   ]
  },
  {
   "cell_type": "code",
   "execution_count": 5,
   "metadata": {},
   "outputs": [],
   "source": [
    "# the function returns a list of inrasententional code-switches of one speaker\n",
    "\n",
    "def SpeakerIntraCounter(tg, speaker):\n",
    "    is_list = []\n",
    "    language_list = []\n",
    "    rus = tg.tierDict[tg.tierNameList[speaker + 1]]\n",
    "    cat_list = [entry[0] for entry in rus.entryList]\n",
    "    ykt = tg.tierDict[tg.tierNameList[speaker + 2]]\n",
    "    cat_list.extend([entry[0] for entry in ykt.entryList])\n",
    "    intra = tg.tierDict[tg.tierNameList[21]]\n",
    "    intra_list = [entry[0] for entry in intra.entryList]      \n",
    "    for entry in cat_list:\n",
    "        if entry in intra_list:\n",
    "            is_list.append(entry)               \n",
    "    for entry in is_list:\n",
    "        language_list.extend([label for point, label in intra.entryList if entry == point])\n",
    "    return language_list\n"
   ]
  },
  {
   "cell_type": "code",
   "execution_count": 7,
   "metadata": {},
   "outputs": [],
   "source": [
    "# the function prints the number of code-switches for each speaker\n",
    "\n",
    "def get_CS(tg, speaker):\n",
    "    if speaker == 0:\n",
    "        print(\"Code Switches in Ben's speech\")\n",
    "        print('intersententional', collections.Counter(inter))\n",
    "        print('intrasententional', collections.Counter(intra))\n",
    "    if speaker == 5:\n",
    "        print(\"Code Switches in Leia's speech\")\n",
    "        print('intersententional', collections.Counter(inter))\n",
    "        print('intrasententional', collections.Counter(intra))\n",
    "    if speaker == 10:\n",
    "        print(\"Code Switches in Luke's speech\")\n",
    "        print('intersententional', collections.Counter(inter))\n",
    "        print('intrasententional', collections.Counter(intra))\n",
    "    if speaker == 15:\n",
    "        print(\"Code Switches in Darth's speech\")\n",
    "        print('intersententional', collections.Counter(inter))\n",
    "        print('intrasententional', collections.Counter(intra))\n"
   ]
  },
  {
   "cell_type": "code",
   "execution_count": 9,
   "metadata": {},
   "outputs": [
    {
     "name": "stdout",
     "output_type": "stream",
     "text": [
      "Ben's code-switches\n",
      "intersententional: Counter({'r': 172, 'y': 136, 'e': 4}) intrasententional: Counter({'y': 85, 'r': 51, 'e': 1})\n",
      "Leia's code-switches\n",
      "intersententional: Counter({'r': 109, 'y': 94, 'e': 5}) intrasententional: Counter({'y': 52, 'r': 32, 'e': 2})\n",
      "Luke's code-switches\n",
      "intersententional: Counter({'r': 238, 'y': 193, 'e': 7}) intrasententional: Counter({'y': 145, 'r': 105})\n",
      "Darth's code-switches\n",
      "intersententional: Counter({'y': 29, 'r': 28, 'e': 2}) intrasententional: Counter({'y': 11, 'r': 10, 'e': 1})\n"
     ]
    }
   ],
   "source": [
    "# print code-switching instances for each speaker\n",
    "\n",
    "\n",
    "files = ['1-885', '885-1785', '1785-2605', '2605-3500', '3500-4400', '4400-5300', '5300-6200', '6200-7100']\n",
    "\n",
    "Ben_inter = []\n",
    "Leia_inter = []\n",
    "Luke_inter = []\n",
    "Darth_inter = []\n",
    "\n",
    "Ben_intra = []\n",
    "Leia_intra = []\n",
    "Luke_intra = []\n",
    "Darth_intra = []\n",
    "\n",
    "for file in files:\n",
    "    filename = 'game_' + file + '_UPD.TextGrid'    \n",
    "    tg = tgio.openTextgrid(filename)\n",
    "    for speaker in range(0, 16, 5):\n",
    "        if speaker == 0:\n",
    "            Ben_inter.extend(SpeakerInterCounter(tg, speaker))\n",
    "            Ben_intra.extend(SpeakerIntraCounter(tg, speaker))\n",
    "        if speaker == 5:\n",
    "            Leia_inter.extend(SpeakerInterCounter(tg, speaker))\n",
    "            Leia_intra.extend(SpeakerIntraCounter(tg, speaker))\n",
    "        if speaker == 10:\n",
    "            Luke_inter.extend(SpeakerInterCounter(tg, speaker))\n",
    "            Luke_intra.extend(SpeakerIntraCounter(tg, speaker))\n",
    "        if speaker == 15:\n",
    "            Darth_inter.extend(SpeakerInterCounter(tg, speaker))\n",
    "            Darth_intra.extend(SpeakerIntraCounter(tg, speaker))\n",
    "\n",
    "print(\"Ben's code-switches\")\n",
    "print('intersententional:', collections.Counter(Ben_inter), 'intrasententional:', collections.Counter(Ben_intra))    \n",
    "print(\"Leia's code-switches\")\n",
    "print('intersententional:', collections.Counter(Leia_inter), 'intrasententional:', collections.Counter(Leia_intra))\n",
    "print(\"Luke's code-switches\")\n",
    "print('intersententional:', collections.Counter(Luke_inter), 'intrasententional:', collections.Counter(Luke_intra))\n",
    "print(\"Darth's code-switches\")\n",
    "print('intersententional:', collections.Counter(Darth_inter), 'intrasententional:', collections.Counter(Darth_intra))\n"
   ]
  },
  {
   "cell_type": "code",
   "execution_count": 11,
   "metadata": {},
   "outputs": [],
   "source": [
    "# the function returns the number of utterances per speaker\n",
    "\n",
    "def Utterance_Counter(tg, speaker):\n",
    "    utterances = tg.tierDict[tg.tierNameList[speaker]]\n",
    "    len_utterances = len(utterances.entryList)\n",
    "    return len_utterances\n"
   ]
  },
  {
   "cell_type": "code",
   "execution_count": 12,
   "metadata": {},
   "outputs": [
    {
     "name": "stdout",
     "output_type": "stream",
     "text": [
      "Number of Ben's utterances: 1760\n",
      "Number of Leia's utterances: 878\n",
      "Number of Luke's utterances: 1193\n",
      "Number of Darth's utterances: 638\n"
     ]
    }
   ],
   "source": [
    "# read TextGrids and count data\n",
    "files = ['1-885', '885-1785', '1785-2605', '2605-3500', '3500-4400', '4400-5300', '5300-6200', '6200-7100']\n",
    "\n",
    "Ben = 0\n",
    "Leia = 0\n",
    "Luke = 0\n",
    "Darth = 0\n",
    "\n",
    "for file in files:\n",
    "    filename = 'game_' + file + '_UPD.TextGrid'    \n",
    "    tg = tgio.openTextgrid(filename)\n",
    "    for speaker in range(0, 16, 5):\n",
    "        if speaker == 0:\n",
    "            Ben += Utterance_Counter(tg, speaker)\n",
    "        if speaker == 5:\n",
    "            Leia += Utterance_Counter(tg, speaker)\n",
    "        if speaker == 10:\n",
    "            Luke += Utterance_Counter(tg, speaker)\n",
    "        if speaker == 15:\n",
    "            Darth += Utterance_Counter(tg, speaker)\n",
    "\n",
    "print(\"Number of Ben's utterances:\", Ben)\n",
    "print(\"Number of Leia's utterances:\", Leia)\n",
    "print(\"Number of Luke's utterances:\", Luke)\n",
    "print(\"Number of Darth's utterances:\", Darth)"
   ]
  },
  {
   "cell_type": "code",
   "execution_count": 30,
   "metadata": {},
   "outputs": [],
   "source": [
    "# the function returns the number of utterances in Yakut for a speaker\n",
    "\n",
    "def LanguageCounter(tg, speaker):\n",
    "    u_yakut_start = []\n",
    "    utterances = tg.tierDict[tg.tierNameList[speaker]]\n",
    "    u_list = [entry[0] for entry in utterances.entryList]    \n",
    "    ykt = tg.tierDict[tg.tierNameList[speaker + 3]]\n",
    "    y_list = [entry[0] for entry in ykt.entryList]\n",
    "    for entry in u_list:\n",
    "        if entry in y_list:\n",
    "            u_yakut_start.append(entry)\n",
    "    u_yakut = len(u_yakut_start)\n",
    "    return u_yakut\n"
   ]
  },
  {
   "cell_type": "code",
   "execution_count": 31,
   "metadata": {},
   "outputs": [
    {
     "name": "stdout",
     "output_type": "stream",
     "text": [
      "Ben's utterances in Yakut: 190\n",
      "Leia's utterances in Yakut: 141\n",
      "Luke's utterances in Yakut: 433\n",
      "Darth's utterances in Yakut: 34\n"
     ]
    }
   ],
   "source": [
    "# print number of utteracnes in Yakut for each speaker\n",
    "\n",
    "files = ['1-885', '885-1785', '1785-2605', '2605-3500', '3500-4400', '4400-5300', '5300-6200', '6200-7100']\n",
    "\n",
    "Ben_ykt = 0\n",
    "Leia_ykt = 0\n",
    "Luke_ykt = 0\n",
    "Darth_ykt = 0\n",
    "\n",
    "for file in files:\n",
    "    filename = 'game_' + file + '_UPD.TextGrid'    \n",
    "    tg = tgio.openTextgrid(filename)\n",
    "    for speaker in range(0, 16, 5):\n",
    "        if speaker == 0:\n",
    "            Ben_ykt += LanguageCounter(tg, speaker)\n",
    "        if speaker == 5:\n",
    "            Leia_ykt += LanguageCounter(tg, speaker)\n",
    "        if speaker == 10:\n",
    "            Luke_ykt += LanguageCounter(tg, speaker)\n",
    "        if speaker == 15:\n",
    "            Darth_ykt += LanguageCounter(tg, speaker)\n",
    "\n",
    "print(\"Ben's utterances in Yakut:\", Ben_ykt)\n",
    "print(\"Leia's utterances in Yakut:\", Leia_ykt)\n",
    "print(\"Luke's utterances in Yakut:\", Luke_ykt)\n",
    "print(\"Darth's utterances in Yakut:\", Darth_ykt)\n"
   ]
  },
  {
   "cell_type": "code",
   "execution_count": 80,
   "metadata": {},
   "outputs": [],
   "source": [
    "# the function returns the list of interval's labels after an intrasententional code-switch\n",
    "\n",
    "def get_intra(tg, speaker, language):\n",
    "    cs_dict = {}  \n",
    "    speech_instances = tg.tierDict[tg.tierNameList[speaker]] \n",
    "    cs = tg.tierDict[tg.tierNameList[21]]\n",
    "    cs_start_label = [(start, label) for start, label in cs.entryList]\n",
    "    labels = []\n",
    "    for start, end, label in speech_instances.entryList:\n",
    "        for item in cs_start_label:\n",
    "            if start == item[0] and item[1] == language:                \n",
    "                labels.append(label)\n",
    "    return labels\n",
    "    "
   ]
  },
  {
   "cell_type": "code",
   "execution_count": 81,
   "metadata": {},
   "outputs": [],
   "source": [
    "# the function returns a sorted dictionary of speaker's syntactic categories after an intrasententional code-switch\n",
    "\n",
    "def get_speaker_intra_synt(speaker, language):\n",
    "    files = ['1-885', '885-1785', '1785-2605', '2605-3500', '3500-4400', '4400-5300', '5300-6200', '6200-7100']\n",
    "    categories = []\n",
    "    for file in files:\n",
    "        filename = 'game_' + file + '_UPD.TextGrid'    \n",
    "        tg = tgio.openTextgrid(filename)\n",
    "        categories.extend(get_intra(tg, speaker + 4, language))\n",
    "    counter = collections.Counter(categories)\n",
    "    counter_dict = {k: v for k, v in sorted(counter.items(), key=lambda item: item[1], reverse=True)}    \n",
    "    return counter_dict\n"
   ]
  },
  {
   "cell_type": "code",
   "execution_count": 82,
   "metadata": {},
   "outputs": [
    {
     "name": "stdout",
     "output_type": "stream",
     "text": [
      "Ben's intrasententional switches to Russian:  {'DE': 13, 'IC': 12, 'N': 7, 'VP': 4, 'NP': 3, 'PP': 3, 'PART': 1, 'ADJ': 1, 'CONJ STOP': 1, 'INTJ': 1, 'CONJ': 1, 'S': 1, 'ADVP Q': 1, 'Q': 1, 'V': 1}\n",
      "Ben's intrasententional switches to Yakut:  {'VP': 19, 'DE': 13, 'IC': 13, 'DE Q': 9, 'V': 6, 'ADVP': 5, 'N': 4, 'VP Q': 3, 'COORD': 3, 'ВУ Й': 2, 'INTJ': 2, 'QP': 1, 'PTCL': 1, 'ADJP': 1, 'IC Q': 1, 'CONJ': 1, 'ADV': 1}\n",
      "Leia's intrasententional switches to Russian:  {'DE': 9, 'IC': 7, 'ADV': 4, 'IC Q': 3, 'COORD': 2, 'VP': 1, 'ADV OUT': 1, 'N': 1, 'PP': 1, 'NP': 1, 'Q': 1, 'ADVP': 1, 'ADJP': 1}\n",
      "Leia's intrasententional switches to Yakut:  {'DE': 13, 'VP': 8, 'IC': 5, 'N': 5, 'VP Q': 4, 'V': 4, 'NP': 4, 'ADV': 2, 'DE Q': 2, 'DE QUOTE': 1, 'CONJ': 1, 'COORD': 1, 'INTJ': 1, 'NP Q': 1, 'MODPDE': 1}\n",
      "Luke's intrasententional switches to Russian:  {'DE': 22, 'IC': 13, 'ADV': 12, 'NP': 9, 'N': 9, 'VP': 8, 'PP': 6, 'INTJ': 6, 'COORD': 5, 'CONJ': 5, 'ADJ': 4, 'V': 1, 'ADVP': 1, 'F': 1, 'ADV Q': 1, 'P': 1, 'COORD REP STOP': 1}\n",
      "Luke's intrasententional switches to Yakut:  {'DE': 44, 'VP': 26, 'IC': 17, 'V': 15, 'N': 7, 'VP Q': 5, 'INTJ': 5, 'DE Q': 4, 'QP': 2, 'ADV': 2, 'CONJ': 2, 'ADJ': 2, 'NP': 2, 'COORD': 2, 'N Q': 1, 'IC Q': 1, 'AUX': 1, 'VP REPP': 1, 'PP': 1, 'Q': 1, 'ADVP': 1, 'CR VP': 1, 'VDE': 1}\n",
      "Darth's intrasententional switches to Russian:  {'N': 4, 'DE': 2, 'DE Q': 1, 'IC': 1, 'Q': 1, 'ADV': 1}\n",
      "Darth's intrasententional switches to Yakut:  {'IC': 3, 'V': 3, 'DE': 2, 'VP Q': 1, 'MODP': 1, 'QP': 1}\n"
     ]
    }
   ],
   "source": [
    "print(\"Ben's intrasententional switches to Russian: \", get_speaker_intra_synt(0, 'r'))\n",
    "print(\"Ben's intrasententional switches to Yakut: \", get_speaker_intra_synt(0, 'y'))\n",
    "\n",
    "print(\"Leia's intrasententional switches to Russian: \", get_speaker_intra_synt(5, 'r'))\n",
    "print(\"Leia's intrasententional switches to Yakut: \", get_speaker_intra_synt(5, 'y'))\n",
    "\n",
    "print(\"Luke's intrasententional switches to Russian: \", get_speaker_intra_synt(10, 'r'))\n",
    "print(\"Luke's intrasententional switches to Yakut: \", get_speaker_intra_synt(10, 'y'))\n",
    "\n",
    "print(\"Darth's intrasententional switches to Russian: \", get_speaker_intra_synt(15, 'r'))\n",
    "print(\"Darth's intrasententional switches to Yakut: \", get_speaker_intra_synt(15, 'y'))"
   ]
  },
  {
   "cell_type": "code",
   "execution_count": 116,
   "metadata": {},
   "outputs": [],
   "source": [
    "# returns sorted ditionary of syntactic categories after intrasententional code-switch of the whole corpus\n",
    "\n",
    "def overall_intra(language):\n",
    "    files = ['1-885', '885-1785', '1785-2605', '2605-3500', '3500-4400', '4400-5300', '5300-6200', '6200-7100']\n",
    "    categories = []\n",
    "    for file in files:\n",
    "        filename = 'game_' + file + '_UPD.TextGrid'    \n",
    "        tg = tgio.openTextgrid(filename)\n",
    "        for speaker in range(0, 16, 5):\n",
    "            categories.extend(get_intra(tg, speaker + 4, language))\n",
    "    counter = collections.Counter(categories)\n",
    "    counter_dict = {k: v for k, v in sorted(counter.items(), key=lambda item: item[1], reverse=True)}    \n",
    "    return counter_dict\n"
   ]
  },
  {
   "cell_type": "code",
   "execution_count": 118,
   "metadata": {},
   "outputs": [
    {
     "name": "stdout",
     "output_type": "stream",
     "text": [
      "Intrasententional code-switches to Russian {'DE': 46, 'IC': 33, 'N': 21, 'ADV': 17, 'NP': 13, 'VP': 13, 'PP': 10, 'COORD': 7, 'INTJ': 7, 'CONJ': 6, 'ADJ': 5, 'IC Q': 3, 'Q': 3, 'V': 2, 'ADVP': 2, 'PART': 1, 'CONJ STOP': 1, 'DE Q': 1, 'ADV OUT': 1, 'F': 1, 'ADV Q': 1, 'S': 1, 'P': 1, 'ADVP Q': 1, 'COORD REP STOP': 1, 'ADJP': 1}\n",
      "Intrasententional code-switches to Yakut {'DE': 72, 'VP': 53, 'IC': 38, 'V': 28, 'N': 16, 'DE Q': 15, 'VP Q': 13, 'INTJ': 8, 'ADVP': 6, 'COORD': 6, 'NP': 6, 'ADV': 5, 'QP': 4, 'CONJ': 4, 'IC Q': 2, 'ВУ Й': 2, 'ADJ': 2, 'MODP': 1, 'PTCL': 1, 'ADJP': 1, 'DE QUOTE': 1, 'N Q': 1, 'AUX': 1, 'VP REPP': 1, 'PP': 1, 'Q': 1, 'CR VP': 1, 'NP Q': 1, 'MODPDE': 1, 'VDE': 1}\n"
     ]
    }
   ],
   "source": [
    "print('Intrasententional code-switches to Russian', overall_intra('r'))\n",
    "print('Intrasententional code-switches to Yakut', overall_intra('y'))\n"
   ]
  },
  {
   "cell_type": "code",
   "execution_count": 119,
   "metadata": {},
   "outputs": [],
   "source": [
    "# the function returns the list of interval's labels after an intersententional code-switch\n",
    "\n",
    "def get_inter(tg, tier_num, language):\n",
    "    cs_dict = {}  \n",
    "    speech_instances = tg.tierDict[tg.tierNameList[tier_num]] \n",
    "    cs = tg.tierDict[tg.tierNameList[20]]\n",
    "    cs_start_label = [(start, label) for start, label in cs.entryList]\n",
    "    labels = []\n",
    "    for start, end, label in speech_instances.entryList:\n",
    "        for item in cs_start_label:\n",
    "            if start == item[0] and item[1] == language:                \n",
    "                labels.append(label)\n",
    "    return labels\n"
   ]
  },
  {
   "cell_type": "code",
   "execution_count": 122,
   "metadata": {},
   "outputs": [],
   "source": [
    "# the function returns a sorted dictionary of speaker's syntactic categories after an intersententional code-switch\n",
    "\n",
    "def get_speaker_inter_synt(speaker, language):\n",
    "    files = ['1-885', '885-1785', '1785-2605', '2605-3500', '3500-4400', '4400-5300', '5300-6200', '6200-7100']\n",
    "    categories = []\n",
    "    for file in files:\n",
    "        filename = 'game_' + file + '_UPD.TextGrid'    \n",
    "        tg = tgio.openTextgrid(filename)\n",
    "        categories.extend(get_inter(tg, speaker + 4, language))\n",
    "    counter = collections.Counter(categories)\n",
    "    counter_dict = {k: v for k, v in sorted(counter.items(), key=lambda item: item[1], reverse=True)}\n",
    "    return counter_dict\n"
   ]
  },
  {
   "cell_type": "code",
   "execution_count": 125,
   "metadata": {},
   "outputs": [
    {
     "name": "stdout",
     "output_type": "stream",
     "text": [
      "Ben's intersententional switches to Russian:  {'S': 99, 'DE': 27, 'Q': 17, 'INTJ': 3, 'IC': 3, 'PP': 3, 'NP': 2, 'ADJ': 2, 'DE Q': 1, 'СЩТО': 1, 'COORD': 1, 'CR S': 1, 'S STOP': 1, 'N': 1, 'QUOTE': 1, 'VP': 1, 'ADV': 1}\n",
      "Ben's intrasententional switches to Yakut:  {'S': 67, 'DE': 23, 'Q': 14, 'INTJ': 9, 'IC': 8, 'VP': 4, 'N': 3, 'CONJ': 2, 'ADJP': 1, 'ВУ': 1, 'ADVP': 1, 'ADJ': 1, 'ADV': 1}\n",
      "Leia's intersententional switches to Russian:  {'S': 47, 'Q': 22, 'DE': 20, 'INTJ': 3, 'IC': 2, 'ADVP': 1, 'CONJ STOP': 1, 'N': 1, 'DE Q': 1, 'NP STOP': 1, 'ADV': 1, 'ADJP': 1, 'VP': 1}\n",
      "Leia's intersententional switches to Yakut:  {'S': 35, 'Q': 24, 'DE': 19, 'INTJ': 4, 'N': 3, 'IC': 2, 'NP': 2, 'IDIOM': 1, 'COORD': 1, 'ADVP': 1, 'INTJ:EMN': 1, 'VP': 1}\n",
      "Luke's intersententional switches to Russian:  {'S': 117, 'DE': 34, 'Q': 16, 'INTJ': 10, 'N': 8, 'PP': 7, 'NP': 6, 'IC': 6, 'ADV': 4, 'COORD': 4, 'CONJ': 3, 'ADVP': 2, 'QUOTE S': 1, 'S STOP': 1, 'DE Q': 1, 'CONJ SDE': 1, 'N STOP': 1, 'C': 1, 'ADVP STOP': 1, 'VP': 1, 'QUOTE': 1, 'P': 1}\n",
      "Luke's intersententional switches to Yakut:  {'S': 79, 'DE': 63, 'Q': 23, 'IC': 7, 'INTJ': 5, 'N': 4, 'VP': 3, 'IDIOM': 1, 'de': 1, 'NP': 1, 'S QUOTE': 1, 'VDE': 1, 'PP': 1, 'ADVP': 1, 'ву': 1, 'COORD STOP': 1}\n",
      "Darth's intersententional switches to Russian:  {'S': 21, 'Q': 5, 'IC': 1, 'INTJ': 1, 'ADJ': 1}\n",
      "Darth's intersententional switches to Yakut:  {'S': 16, 'Q': 4, 'DE': 3, 'IC': 2, 'ADJ': 2, 'PP': 1}\n"
     ]
    }
   ],
   "source": [
    "print(\"Ben's intersententional switches to Russian: \", get_speaker_inter_synt(0, 'r'))\n",
    "print(\"Ben's intrasententional switches to Yakut: \", get_speaker_inter_synt(0, 'y'))\n",
    "\n",
    "print(\"Leia's intersententional switches to Russian: \", get_speaker_inter_synt(5, 'r'))\n",
    "print(\"Leia's intersententional switches to Yakut: \", get_speaker_inter_synt(5, 'y'))\n",
    "\n",
    "print(\"Luke's intersententional switches to Russian: \", get_speaker_inter_synt(10, 'r'))\n",
    "print(\"Luke's intersententional switches to Yakut: \", get_speaker_inter_synt(10, 'y'))\n",
    "\n",
    "print(\"Darth's intersententional switches to Russian: \", get_speaker_inter_synt(15, 'r'))\n",
    "print(\"Darth's intersententional switches to Yakut: \", get_speaker_inter_synt(15, 'y'))"
   ]
  },
  {
   "cell_type": "code",
   "execution_count": 126,
   "metadata": {},
   "outputs": [],
   "source": [
    "# returns sorted ditionary of syntactic categories after intersententional code-switch of the whole corpus\n",
    "\n",
    "def overall_inter(language):\n",
    "    files = ['1-885', '885-1785', '1785-2605', '2605-3500', '3500-4400', '4400-5300', '5300-6200', '6200-7100']\n",
    "    categories = []\n",
    "    for file in files:\n",
    "        filename = 'game_' + file + '_UPD.TextGrid'    \n",
    "        tg = tgio.openTextgrid(filename)\n",
    "        for speaker in range(0, 16, 5):\n",
    "            categories.extend(get_inter(tg, speaker + 4, language))\n",
    "    counter = collections.Counter(categories)\n",
    "    counter_dict = {k: v for k, v in sorted(counter.items(), key=lambda item: item[1], reverse=True)}    \n",
    "    return counter_dict\n"
   ]
  },
  {
   "cell_type": "code",
   "execution_count": 127,
   "metadata": {},
   "outputs": [
    {
     "name": "stdout",
     "output_type": "stream",
     "text": [
      "Intersententional code-switches to Russian {'S': 284, 'DE': 81, 'Q': 60, 'INTJ': 17, 'IC': 12, 'PP': 10, 'N': 10, 'NP': 8, 'ADV': 6, 'COORD': 5, 'CONJ': 3, 'DE Q': 3, 'ADVP': 3, 'VP': 3, 'ADJ': 3, 'S STOP': 2, 'QUOTE': 2, 'СЩТО': 1, 'QUOTE S': 1, 'CONJ SDE': 1, 'N STOP': 1, 'CR S': 1, 'CONJ STOP': 1, 'C': 1, 'ADVP STOP': 1, 'NP STOP': 1, 'ADJP': 1, 'P': 1}\n",
      "Intersententional code-switches to Yakut {'S': 197, 'DE': 108, 'Q': 65, 'IC': 19, 'INTJ': 18, 'N': 10, 'VP': 8, 'ADVP': 3, 'NP': 3, 'ADJ': 3, 'IDIOM': 2, 'CONJ': 2, 'PP': 2, 'ADJP': 1, 'ВУ': 1, 'COORD': 1, 'de': 1, 'S QUOTE': 1, 'VDE': 1, 'ву': 1, 'COORD STOP': 1, 'INTJ:EMN': 1, 'ADV': 1}\n"
     ]
    }
   ],
   "source": [
    "print('Intersententional code-switches to Russian', overall_inter('r'))\n",
    "print('Intersententional code-switches to Yakut', overall_inter('y'))\n"
   ]
  }
 ],
 "metadata": {
  "kernelspec": {
   "display_name": "Python 3",
   "language": "python",
   "name": "python3"
  },
  "language_info": {
   "codemirror_mode": {
    "name": "ipython",
    "version": 3
   },
   "file_extension": ".py",
   "mimetype": "text/x-python",
   "name": "python",
   "nbconvert_exporter": "python",
   "pygments_lexer": "ipython3",
   "version": "3.7.0"
  }
 },
 "nbformat": 4,
 "nbformat_minor": 2
}
