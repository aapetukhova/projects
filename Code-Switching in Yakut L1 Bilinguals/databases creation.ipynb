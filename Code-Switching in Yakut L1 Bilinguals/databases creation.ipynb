{
 "cells": [
  {
   "cell_type": "code",
   "execution_count": null,
   "metadata": {},
   "outputs": [],
   "source": [
    "# compiling all files into a big .TextGrid (6 .TextGrid files)\n",
    "\n",
    "from praatio import tgio\n",
    "from functools import wraps\n",
    "\n",
    "\n",
    "filenames = ['game_885-1785s_UPD.TextGrid', 'game_1785-2605s_UPD.TextGrid', 'game_2605-3500s_UPD.TextGrid', 'game_3500-4400_UPD.TextGrid', 'game_4400-5300_UPD.TextGrid']\n",
    "\n",
    "a = tgio.openTextgrid('game_1-885s_U.TextGrid')\n",
    "for file in filenames:\n",
    "    b = tgio.openTextgrid(file)\n",
    "    combinedTG = a.appendTextgrid(b, True)\n",
    "combinedTG.save(\"all.TextGrid\")"
   ]
  },
  {
   "cell_type": "code",
   "execution_count": null,
   "metadata": {},
   "outputs": [],
   "source": [
    "# an empty database for the ordered databes of replics\n",
    "\n",
    "import sqlite3\n",
    "\n",
    "conn = sqlite3.connect('ordered.db')\n",
    "c = conn.cursor()\n",
    "c.execute('CREATE TABLE IF NOT EXISTS ordered(start_point float, replic text, speaker integer, language text, inter integer)')\n",
    "conn.close()"
   ]
  },
  {
   "cell_type": "code",
   "execution_count": null,
   "metadata": {},
   "outputs": [],
   "source": [
    "# a database of replics, unordered\n",
    "# structure: starting_point - replic - speaker - language - inter CS\n",
    "\n",
    "\n",
    "def replics_db():\n",
    "    conn = sqlite3.connect('replics.db')\n",
    "    c = conn.cursor()\n",
    "    c.execute('CREATE TABLE IF NOT EXISTS replics(start_point float, replic text, speaker integer, language text, inter integer)')\n",
    "#     a list for future intersentenrional code-switches' starting point\n",
    "    cster_list = []\n",
    "    tg = tgio.openTextgrid('all.TextGrid')\n",
    "#     a grid of intersententional code-switches\n",
    "    cs_inter = tg.tierDict[tg.tierNameList[20]]\n",
    "    cster_list.extend([entry[0] for entry in cs_inter.entryList])\n",
    "    for i in range (0, 16, 5):\n",
    "        starting_point = []\n",
    "        replics = []\n",
    "#         a grid with replics\n",
    "        a = tg.tierDict[tg.tierNameList[i]]\n",
    "#      a grid with russian words\n",
    "        rus = tg.tierDict[tg.tierNameList[i + 1]]\n",
    "        ykt = tg.tierDict[tg.tierNameList[i + 2]]\n",
    "        rus_full_s = [entry[0] for entry in rus.entryList]\n",
    "        rus_full_e = [entry[1] for entry in rus.entryList]\n",
    "        ykt_full_s = [entry[0] for entry in ykt.entryList]\n",
    "        ykt_full_e = [entry[1] for entry in ykt.entryList]\n",
    "\n",
    "#         differentiating between code-switches\n",
    "        for s_point, e_point, label in a.entryList:\n",
    "            ter = 0\n",
    "            if s_point in cster_list:\n",
    "                ter = 1\n",
    "            if s_point in rus_full_s and e_point in rus_full_e:\n",
    "                language = 'R'\n",
    "            elif s_point in ykt_full_s and e_point in ykt_full_e:\n",
    "                language = 'Y'\n",
    "            elif s_point in rus_full_s and e_point in ykt_full_e:\n",
    "                language = 'CS'\n",
    "            elif s_point in ykt_full_s and e_point in rus_full_e:\n",
    "                language = 'CS'\n",
    "            else:\n",
    "                language = 'N'\n",
    "            c.execute('INSERT INTO replics VALUES (?, ?, ?, ?, ?)', (s_point, label, i, language, ter))\n",
    "            \n",
    "        conn.commit()\n",
    "       \n",
    "    c.execute('ATTACH DATABASE \"ordered.db\" as ordered')\n",
    "    c.execute('INSERT INTO ordered SELECT * FROM replics ORDER BY start_point ASC')\n",
    "    conn.commit()  \n",
    "\n",
    "    conn.close()\n",
    "    \n",
    "replics_db()    "
   ]
  }
 ],
 "metadata": {
  "kernelspec": {
   "display_name": "Python 3",
   "language": "python",
   "name": "python3"
  },
  "language_info": {
   "codemirror_mode": {
    "name": "ipython",
    "version": 3
   },
   "file_extension": ".py",
   "mimetype": "text/x-python",
   "name": "python",
   "nbconvert_exporter": "python",
   "pygments_lexer": "ipython3",
   "version": "3.7.0"
  }
 },
 "nbformat": 4,
 "nbformat_minor": 2
}
