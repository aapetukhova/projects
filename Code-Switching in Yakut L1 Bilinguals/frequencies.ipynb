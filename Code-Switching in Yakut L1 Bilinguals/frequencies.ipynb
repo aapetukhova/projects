{
 "cells": [
  {
   "cell_type": "code",
   "execution_count": 26,
   "metadata": {},
   "outputs": [
    {
     "name": "stdout",
     "output_type": "stream",
     "text": [
      "885-1785\n",
      "1785-2605\n",
      "2605-3500\n"
     ]
    },
    {
     "ename": "ValueError",
     "evalue": "min() arg is an empty sequence",
     "output_type": "error",
     "traceback": [
      "\u001b[1;31m---------------------------------------------------------------------------\u001b[0m",
      "\u001b[1;31mValueError\u001b[0m                                Traceback (most recent call last)",
      "\u001b[1;32m<ipython-input-26-134eba8fa4c4>\u001b[0m in \u001b[0;36m<module>\u001b[1;34m\u001b[0m\n\u001b[0;32m      9\u001b[0m     \u001b[0mfilename\u001b[0m \u001b[1;33m=\u001b[0m \u001b[1;34m'game_'\u001b[0m \u001b[1;33m+\u001b[0m \u001b[0mfile\u001b[0m \u001b[1;33m+\u001b[0m \u001b[1;34m'_UPD.TextGrid'\u001b[0m\u001b[1;33m\u001b[0m\u001b[0m\n\u001b[0;32m     10\u001b[0m     \u001b[0mtextgrid\u001b[0m \u001b[1;33m=\u001b[0m \u001b[0mtgio\u001b[0m\u001b[1;33m.\u001b[0m\u001b[0mopenTextgrid\u001b[0m\u001b[1;33m(\u001b[0m\u001b[0mfilename\u001b[0m\u001b[1;33m)\u001b[0m\u001b[1;33m\u001b[0m\u001b[0m\n\u001b[1;32m---> 11\u001b[1;33m     \u001b[0mcombinedTG\u001b[0m \u001b[1;33m=\u001b[0m \u001b[0mstart_TG\u001b[0m\u001b[1;33m.\u001b[0m\u001b[0mappendTextgrid\u001b[0m\u001b[1;33m(\u001b[0m\u001b[0mtextgrid\u001b[0m\u001b[1;33m,\u001b[0m \u001b[1;32mTrue\u001b[0m\u001b[1;33m)\u001b[0m\u001b[1;33m\u001b[0m\u001b[0m\n\u001b[0m\u001b[0;32m     12\u001b[0m     \u001b[0mprint\u001b[0m\u001b[1;33m(\u001b[0m\u001b[0mfile\u001b[0m\u001b[1;33m)\u001b[0m\u001b[1;33m\u001b[0m\u001b[0m\n\u001b[0;32m     13\u001b[0m \u001b[1;31m# combinedTG.save(\"all.TextGrid\")\u001b[0m\u001b[1;33m\u001b[0m\u001b[1;33m\u001b[0m\u001b[0m\n",
      "\u001b[1;32mc:\\users\\annap\\miniconda3\\lib\\site-packages\\praatio\\tgio.py\u001b[0m in \u001b[0;36mappendTextgrid\u001b[1;34m(self, tg, onlyMatchingNames)\u001b[0m\n\u001b[0;32m   1210\u001b[0m                                             maxTimestamp=maxTime)\n\u001b[0;32m   1211\u001b[0m \u001b[1;33m\u001b[0m\u001b[0m\n\u001b[1;32m-> 1212\u001b[1;33m                 \u001b[0mappendTier\u001b[0m \u001b[1;33m=\u001b[0m \u001b[0mappendTier\u001b[0m\u001b[1;33m.\u001b[0m\u001b[0meditTimestamps\u001b[0m\u001b[1;33m(\u001b[0m\u001b[0mself\u001b[0m\u001b[1;33m.\u001b[0m\u001b[0mmaxTimestamp\u001b[0m\u001b[1;33m)\u001b[0m\u001b[1;33m\u001b[0m\u001b[0m\n\u001b[0m\u001b[0;32m   1213\u001b[0m \u001b[1;33m\u001b[0m\u001b[0m\n\u001b[0;32m   1214\u001b[0m                 \u001b[1;32mif\u001b[0m \u001b[0mtierName\u001b[0m \u001b[1;32min\u001b[0m \u001b[0mretTG\u001b[0m\u001b[1;33m.\u001b[0m\u001b[0mtierNameList\u001b[0m\u001b[1;33m:\u001b[0m\u001b[1;33m\u001b[0m\u001b[0m\n",
      "\u001b[1;32mc:\\users\\annap\\miniconda3\\lib\\site-packages\\praatio\\tgio.py\u001b[0m in \u001b[0;36meditTimestamps\u001b[1;34m(self, offset, allowOvershoot)\u001b[0m\n\u001b[0;32m    826\u001b[0m \u001b[1;33m\u001b[0m\u001b[0m\n\u001b[0;32m    827\u001b[0m         \u001b[1;31m# Determine new min and max timestamps\u001b[0m\u001b[1;33m\u001b[0m\u001b[1;33m\u001b[0m\u001b[0m\n\u001b[1;32m--> 828\u001b[1;33m         \u001b[0mnewMin\u001b[0m \u001b[1;33m=\u001b[0m \u001b[0mmin\u001b[0m\u001b[1;33m(\u001b[0m\u001b[1;33m[\u001b[0m\u001b[0mentry\u001b[0m\u001b[1;33m[\u001b[0m\u001b[1;36m0\u001b[0m\u001b[1;33m]\u001b[0m \u001b[1;32mfor\u001b[0m \u001b[0mentry\u001b[0m \u001b[1;32min\u001b[0m \u001b[0mnewEntryList\u001b[0m\u001b[1;33m]\u001b[0m\u001b[1;33m)\u001b[0m\u001b[1;33m\u001b[0m\u001b[0m\n\u001b[0m\u001b[0;32m    829\u001b[0m         \u001b[0mnewMax\u001b[0m \u001b[1;33m=\u001b[0m \u001b[0mmax\u001b[0m\u001b[1;33m(\u001b[0m\u001b[1;33m[\u001b[0m\u001b[0mentry\u001b[0m\u001b[1;33m[\u001b[0m\u001b[1;36m1\u001b[0m\u001b[1;33m]\u001b[0m \u001b[1;32mfor\u001b[0m \u001b[0mentry\u001b[0m \u001b[1;32min\u001b[0m \u001b[0mnewEntryList\u001b[0m\u001b[1;33m]\u001b[0m\u001b[1;33m)\u001b[0m\u001b[1;33m\u001b[0m\u001b[0m\n\u001b[0;32m    830\u001b[0m \u001b[1;33m\u001b[0m\u001b[0m\n",
      "\u001b[1;31mValueError\u001b[0m: min() arg is an empty sequence"
     ]
    }
   ],
   "source": [
    "# this code compiles all Textgrids from smaller files to a big one 'all.TextGrid', which will be used further\n",
    "\n",
    "from praatio import tgio\n",
    "\n",
    "\n",
    "files = ['885-1785', '1785-2605', '2605-3500', '3500-4400', '4400-5300', '6200-7100']\n",
    "start_TG = tgio.openTextgrid('game_1-885_UPD.TextGrid')\n",
    "for file in files:\n",
    "    filename = 'game_' + file + '_UPD.TextGrid'    \n",
    "    textgrid = tgio.openTextgrid(filename)\n",
    "    combinedTG = start_TG.appendTextgrid(textgrid, True)\n",
    "    print(file)\n",
    "# combinedTG.save(\"all.TextGrid\")\n"
   ]
  },
  {
   "cell_type": "code",
   "execution_count": null,
   "metadata": {},
   "outputs": [],
   "source": [
    "# this code shows intences of code-switching in corpus\n",
    "# cs_num = 20 for intersententional code-switches\n",
    "# cs_num = 21 for intrasententional\n",
    "\n",
    "\n",
    "from praatio import tgio\n",
    "import matplotlib.pyplot as plt\n",
    "from matplotlib import style\n",
    "import seaborn as sns\n",
    "import collections\n",
    "\n",
    "\n",
    "def csCounter(cs_num):\n",
    "    input_filename = 'all.TextGrid'\n",
    "    tg = tgio.openTextgrid(input_filename)\n",
    "    cs = tg.tierDict[tg.tierNameList[cs_num]]\n",
    "#   list of code-switch languages\n",
    "    a = [entry[1] for entry in cs.entryList]\n",
    "    counter = collections.Counter(a)\n",
    "    X = [item for item in counter]\n",
    "    Y = [c[1] for c in counter.items()]\n",
    "    plt.title('Instances of Code Switches per corpus')\n",
    "    colors = sns.color_palette('Accent')\n",
    "    plt.bar(X, Y, color=colors)\n",
    "    for a, b in enumerate(Y):\n",
    "        plt.text(a, b + 1, str(b))\n",
    "    plt.show()\n",
    "\n",
    "# example: intersententional CSs\n",
    "cs_number(20)\n"
   ]
  },
  {
   "cell_type": "code",
   "execution_count": null,
   "metadata": {},
   "outputs": [],
   "source": [
    "# this code shows a number of utterances per speaker\n",
    "# speaker_num = number of the speaker (see below)\n",
    "# speakers:\n",
    "#     0 - speaker 1\n",
    "#     5 - speaker 2\n",
    "#     10 - speaker 3\n",
    "#     15 - speaker 4\n",
    "    \n",
    "\n",
    "def mi_len(speaker_n):\n",
    "    input_filename = 'all.TextGrid'\n",
    "    tg = tgio.openTextgrid(input_filename)\n",
    "    utterances = tg.tierDict[tg.tierNameList[speaker_n]]\n",
    "    a = len(synt.entryList)\n",
    "    return a\n",
    "\n",
    "s1 = mi_len(0)\n",
    "s2 = mi_len(5)\n",
    "s3 = mi_len(10)\n",
    "s4 = mi_len(15)\n",
    "\n",
    "X = ['s1', 's2', 's3', 's4']\n",
    "Y = [s1, s2, s3, s4]\n",
    "\n",
    "colors = sns.color_palette('Accent', max(Y))\n",
    "for a, b in enumerate(Y):\n",
    "    plt.text(a - 0.1, b + 1, str(b))\n",
    "plt.title('Total number of utterances')\n",
    "plt.bar(X, Y, color=colors)\n",
    "plt.show()\n"
   ]
  },
  {
   "cell_type": "code",
   "execution_count": null,
   "metadata": {},
   "outputs": [],
   "source": [
    "# this code shows number of code-switch instances per speaker\n",
    "# num = speaker_num + 1\n",
    "# picname = name of the picture\n",
    "\n",
    "\n",
    "def csSpeaker(num, cs_number):\n",
    "    is_list = []\n",
    "    f_list = []\n",
    "    tg = tgio.openTextgrid('all.TextGrid')    \n",
    "    rus = tg.tierDict[tg.tierNameList[num]]\n",
    "    switches = [entry[0] for entry in rus.entryList]        \n",
    "    ykt = tg.tierDict[tg.tierNameList[num + 1]]\n",
    "    switches.extend([entry[0] for entry in ykt.entryList])    \n",
    "    cs = tg.tierDict[tg.tierNameList[cs_number]]\n",
    "    cs_list = [entry[0] for entry in cs.entryList]      \n",
    "    for entry in switches:\n",
    "        if entry in cs_list:\n",
    "            is_list.append(entry)               \n",
    "    for entry in is_list:\n",
    "        f_list.extend([label for point, label in cs.entryList if entry == point])\n",
    "    counter = collections.Counter(f_list)\n",
    "    X = [item for item in counter]\n",
    "    Y = [c[1] for c in counter.items()]\n",
    "    plt.title('Instances of Code Switches')\n",
    "    colors = sns.color_palette('Accent')\n",
    "    plt.bar(X, Y, color=colors)\n",
    "    for a, b in enumerate(Y):\n",
    "        plt.text(a, b + 1, str(b))\n",
    "\n",
    "# example: speaker 1's number of intersententional switches\n",
    "cs_Counter(1, 20)\n"
   ]
  },
  {
   "cell_type": "code",
   "execution_count": 1,
   "metadata": {},
   "outputs": [
    {
     "ename": "NameError",
     "evalue": "name 'tgio' is not defined",
     "output_type": "error",
     "traceback": [
      "\u001b[1;31m---------------------------------------------------------------------------\u001b[0m",
      "\u001b[1;31mNameError\u001b[0m                                 Traceback (most recent call last)",
      "\u001b[1;32m<ipython-input-1-b742dfd0d37c>\u001b[0m in \u001b[0;36m<module>\u001b[1;34m\u001b[0m\n\u001b[0;32m     18\u001b[0m \u001b[1;33m\u001b[0m\u001b[0m\n\u001b[0;32m     19\u001b[0m \u001b[1;31m# example: frequency list of yakut words after the code-switch of speaker 4\u001b[0m\u001b[1;33m\u001b[0m\u001b[1;33m\u001b[0m\u001b[0m\n\u001b[1;32m---> 20\u001b[1;33m \u001b[0mtopWords\u001b[0m\u001b[1;33m(\u001b[0m\u001b[1;36m19\u001b[0m\u001b[1;33m)\u001b[0m\u001b[1;33m\u001b[0m\u001b[0m\n\u001b[0m",
      "\u001b[1;32m<ipython-input-1-b742dfd0d37c>\u001b[0m in \u001b[0;36mtopWords\u001b[1;34m(tier_num)\u001b[0m\n\u001b[0;32m      6\u001b[0m \u001b[1;33m\u001b[0m\u001b[0m\n\u001b[0;32m      7\u001b[0m \u001b[1;32mdef\u001b[0m \u001b[0mtopWords\u001b[0m\u001b[1;33m(\u001b[0m\u001b[0mtier_num\u001b[0m\u001b[1;33m)\u001b[0m\u001b[1;33m:\u001b[0m\u001b[1;33m\u001b[0m\u001b[0m\n\u001b[1;32m----> 8\u001b[1;33m     \u001b[0mtg\u001b[0m \u001b[1;33m=\u001b[0m \u001b[0mtgio\u001b[0m\u001b[1;33m.\u001b[0m\u001b[0mopenTextgrid\u001b[0m\u001b[1;33m(\u001b[0m\u001b[1;34m'all.TextGrid'\u001b[0m\u001b[1;33m)\u001b[0m\u001b[1;33m\u001b[0m\u001b[0m\n\u001b[0m\u001b[0;32m      9\u001b[0m     \u001b[0mlan\u001b[0m \u001b[1;33m=\u001b[0m \u001b[0mtg\u001b[0m\u001b[1;33m.\u001b[0m\u001b[0mtierDict\u001b[0m\u001b[1;33m[\u001b[0m\u001b[0mtg\u001b[0m\u001b[1;33m.\u001b[0m\u001b[0mtierNameList\u001b[0m\u001b[1;33m[\u001b[0m\u001b[0mtier_num\u001b[0m\u001b[1;33m]\u001b[0m\u001b[1;33m]\u001b[0m\u001b[1;33m\u001b[0m\u001b[0m\n\u001b[0;32m     10\u001b[0m     \u001b[0mcs\u001b[0m \u001b[1;33m=\u001b[0m \u001b[0mtg\u001b[0m\u001b[1;33m.\u001b[0m\u001b[0mtierDict\u001b[0m\u001b[1;33m[\u001b[0m\u001b[0mtg\u001b[0m\u001b[1;33m.\u001b[0m\u001b[0mtierNameList\u001b[0m\u001b[1;33m[\u001b[0m\u001b[1;36m21\u001b[0m\u001b[1;33m]\u001b[0m\u001b[1;33m]\u001b[0m\u001b[1;33m\u001b[0m\u001b[0m\n",
      "\u001b[1;31mNameError\u001b[0m: name 'tgio' is not defined"
     ]
    }
   ],
   "source": [
    "# this code prints a frequency list of words/categories after the intrasententional CSs for a speaker\n",
    "# tier_num = speker_num + 1 for frequency list of russian words\n",
    "# tier_num = speker_num + 3 for frequency list of yakut words\n",
    "# tier_num = speker_num + 4 for frequency list of categories\n",
    "\n",
    "\n",
    "def topWords(tier_num):\n",
    "    tg = tgio.openTextgrid('all.TextGrid')    \n",
    "    lan = tg.tierDict[tg.tierNameList[tier_num]] \n",
    "    cs = tg.tierDict[tg.tierNameList[21]]\n",
    "    cs_list = [entry[0] for entry in cs.entryList]    \n",
    "    words = []\n",
    "    for start, end, label in lan.entryList:\n",
    "        if start in cs_list:\n",
    "              words.append(label)                \n",
    "    counter = collections.Counter(words)\n",
    "    print(sorted(counter))\n",
    "    \n",
    "# example: frequency list of yakut words after the code-switch of speaker 4\n",
    "topWords(19)\n"
   ]
  }
 ],
 "metadata": {
  "kernelspec": {
   "display_name": "Python 3",
   "language": "python",
   "name": "python3"
  },
  "language_info": {
   "codemirror_mode": {
    "name": "ipython",
    "version": 3
   },
   "file_extension": ".py",
   "mimetype": "text/x-python",
   "name": "python",
   "nbconvert_exporter": "python",
   "pygments_lexer": "ipython3",
   "version": "3.7.0"
  }
 },
 "nbformat": 4,
 "nbformat_minor": 2
}
