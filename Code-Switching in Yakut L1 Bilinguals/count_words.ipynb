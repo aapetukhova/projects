{
 "cells": [
  {
   "cell_type": "code",
   "execution_count": 1,
   "metadata": {},
   "outputs": [],
   "source": [
    "import collections\n",
    "from praatio import tgio\n"
   ]
  },
  {
   "cell_type": "code",
   "execution_count": 11,
   "metadata": {},
   "outputs": [],
   "source": [
    "# the function returns the number of utterances per speaker\n",
    "\n",
    "def Words_Counter(tg, speaker):\n",
    "    word_count = 0\n",
    "    utterances = tg.tierDict[tg.tierNameList[speaker]]\n",
    "    phrases = [entry[2] for entry in utterances.entryList]\n",
    "    for phrase in phrases:\n",
    "        word_count += len([word for word in phrase.split()])\n",
    "    return word_count\n"
   ]
  },
  {
   "cell_type": "code",
   "execution_count": 13,
   "metadata": {},
   "outputs": [
    {
     "name": "stdout",
     "output_type": "stream",
     "text": [
      "Number of Ben's words: 6020\n",
      "Number of Leia's words: 2853\n",
      "Number of Luke's words: 3939\n",
      "Number of Darth's words: 2327\n",
      "Overall: 15139\n"
     ]
    }
   ],
   "source": [
    "# read TextGrids and count data\n",
    "files = ['1-885', '885-1785', '1785-2605', '2605-3500', '3500-4400', '4400-5300', '5300-6200', '6200-7100']\n",
    "\n",
    "Ben = 0\n",
    "Leia = 0\n",
    "Luke = 0\n",
    "Darth = 0\n",
    "\n",
    "for file in files:\n",
    "    filename = 'game_' + file + '_UPD.TextGrid'    \n",
    "    tg = tgio.openTextgrid(filename)\n",
    "    for speaker in range(0, 16, 5):\n",
    "        if speaker == 0:\n",
    "            Ben += Utterance_Counter(tg, speaker)\n",
    "        if speaker == 5:\n",
    "            Leia += Utterance_Counter(tg, speaker)\n",
    "        if speaker == 10:\n",
    "            Luke += Utterance_Counter(tg, speaker)\n",
    "        if speaker == 15:\n",
    "            Darth += Utterance_Counter(tg, speaker)\n",
    "\n",
    "print(\"Number of Ben's words:\", Ben)\n",
    "print(\"Number of Leia's words:\", Leia)\n",
    "print(\"Number of Luke's words:\", Luke)\n",
    "print(\"Number of Darth's words:\", Darth)\n",
    "print('Overall:', Ben + Leia + Luke + Darth)"
   ]
  }
 ],
 "metadata": {
  "kernelspec": {
   "display_name": "Python 3",
   "language": "python",
   "name": "python3"
  },
  "language_info": {
   "codemirror_mode": {
    "name": "ipython",
    "version": 3
   },
   "file_extension": ".py",
   "mimetype": "text/x-python",
   "name": "python",
   "nbconvert_exporter": "python",
   "pygments_lexer": "ipython3",
   "version": "3.7.0"
  }
 },
 "nbformat": 4,
 "nbformat_minor": 2
}
