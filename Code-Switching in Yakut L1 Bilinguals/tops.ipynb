{
 "cells": [
  {
   "cell_type": "code",
   "execution_count": 1,
   "metadata": {},
   "outputs": [],
   "source": [
    "from praatio import tgio\n",
    "import collections\n",
    "import matplotlib.pyplot as plt\n",
    "from matplotlib import style\n",
    "import seaborn as sns\n",
    "\n",
    "# frequency list of intrasententional CSs for a speaker and a language/category\n",
    "def topWords(s_num):\n",
    "    tg = tgio.openTextgrid('all_2.TextGrid')    \n",
    "    lan = tg.tierDict[tg.tierNameList[s_num]] \n",
    "    cs = tg.tierDict[tg.tierNameList[21]]\n",
    "    cs_list = [entry[0] for entry in cs.entryList]\n",
    "    \n",
    "    words = []\n",
    "\n",
    "    for start, end, label in lan.entryList:\n",
    "        if start in cs_list:\n",
    "              words.append(label)                \n",
    "    counter = collections.Counter(words)\n",
    "    print(sorted(counter))\n",
    "#     return counter\n"
   ]
  },
  {
   "cell_type": "code",
   "execution_count": 3,
   "metadata": {},
   "outputs": [
    {
     "data": {
      "text/plain": [
       "Counter({'чт': 1,\n",
       "         'все': 1,\n",
       "         'деньги': 1,\n",
       "         'одинаковые': 1,\n",
       "         'просто': 1,\n",
       "         'десять': 1,\n",
       "         'короче': 2,\n",
       "         'карточка': 1,\n",
       "         'деньш': 1,\n",
       "         'банкир': 1,\n",
       "         'и': 1,\n",
       "         'там': 1,\n",
       "         'я': 2,\n",
       "         'кубик': 2,\n",
       "         'себе': 1,\n",
       "         'давай': 1,\n",
       "         'чтобы=': 1,\n",
       "         'ты': 2,\n",
       "         'у': 3,\n",
       "         'а': 1,\n",
       "         'нет': 1,\n",
       "         'серьезно': 2,\n",
       "         'одиннадцать': 1,\n",
       "         'два': 1,\n",
       "         'зона-попадос': 1,\n",
       "         'вообще': 2,\n",
       "         'кстати': 1,\n",
       "         'типа': 2,\n",
       "         'это': 1,\n",
       "         'ой': 1,\n",
       "         'чтобы': 1,\n",
       "         'е': 1})"
      ]
     },
     "execution_count": 3,
     "metadata": {},
     "output_type": "execute_result"
    }
   ],
   "source": [
    "topWords(1)"
   ]
  },
  {
   "cell_type": "code",
   "execution_count": 2,
   "metadata": {},
   "outputs": [],
   "source": [
    "# building a plot with title and top n words\n",
    "\n",
    "def topPlot(counter, top_n, title, picname):\n",
    "    X = [item for item in sorted(counter, key=counter.get, reverse=True)]\n",
    "    Y = [counter[k] for k in sorted(counter, key=counter.get, reverse=True)]\n",
    "\n",
    "    colors = sns.color_palette('Accent', max(Y))\n",
    "    plt.title(title)\n",
    "    plt.bar(X[:top_n], Y[:top_n], color=colors)\n",
    "    for a, b in enumerate(Y[:top_n]):\n",
    "        plt.text(a, b, str(b))\n",
    "    plt.xticks(X[:top_n], rotation=90)\n",
    "    plt.savefig(picname + '.png')\n",
    "    plt.show()\n",
    "\n"
   ]
  },
  {
   "cell_type": "code",
   "execution_count": 4,
   "metadata": {},
   "outputs": [
    {
     "name": "stdout",
     "output_type": "stream",
     "text": [
      "Counter({'а': 12, 'я': 10, 'у': 10, 'давай': 6, 'вообще': 6, 'короче': 5, 'это': 5, 'ладно': 5, 'типа': 4, 'PRF': 4, 'просто': 3, 'там': 3, 'два': 3, 'сразу': 3, 'пока': 3, 'все': 2, 'банкир': 2, 'и': 2, 'кубик': 2, 'себе': 2, 'ты': 2, 'нет': 2, 'серьезно': 2, 'реально': 2, 'уже': 2, 'сто': 2, 'но': 2, 'наоборот': 2, 'то': 2, 'миллион': 2, 'именно': 2, 'чт': 1, 'деньги': 1, 'одинаковые': 1, 'десять': 1, 'карточка': 1, 'деньш': 1, 'чтобы=': 1, 'одиннадцать': 1, 'зона-попадос': 1, 'кстати': 1, 'ой': 1, 'чтобы': 1, 'е': 1, 'вы': 1, 'почти': 1, 'не': 1, 'круг': 1, 'где': 1, 'фрацузский': 1, 'можно': 1, 'на': 1, 'покупает': 1, 'зато': 1, 'раз': 1, 'он': 1, 'незаметно': 1, 'ему': 1, 'четырехкратный': 1, 'сорок': 1, 'пятьсот': 1, 'за': 1, 'же': 1, 'хотя': 1, 'девять': 1, 'ага': 1, 'официально': 1, 'плюс': 1, 'в': 1, 'почему': 1, 'или': 1, 'каждому': 1, 'солидная': 1, 'лимон': 1, 'полтора': 1, 'допустим': 1, 'от=': 1, 'помогла': 1, 'дальше': 1, 'двести': 1, 'чмо': 1})\n"
     ]
    }
   ],
   "source": [
    "# a big dictionary for all speakers\n",
    "\n",
    "def bigCounter(num):\n",
    "    a = topWords(num)\n",
    "    for i in range(num + 5, num + 15, 5):\n",
    "        a.update(topWords(i))\n",
    "#     return a\n",
    "    print(a)\n",
    "    \n",
    "bigCounter(1)    \n"
   ]
  },
  {
   "cell_type": "code",
   "execution_count": null,
   "metadata": {},
   "outputs": [],
   "source": [
    "bigCounter()   "
   ]
  },
  {
   "cell_type": "code",
   "execution_count": 11,
   "metadata": {},
   "outputs": [
    {
     "data": {
      "image/png": "[encoded data removed]",
      "text/plain": [
       "<Figure size 432x288 with 1 Axes>"
      ]
     },
     "metadata": {
      "needs_background": "light"
     },
     "output_type": "display_data"
    }
   ],
   "source": [
    "# top 10 words for the 2 speaker rus\n",
    "# topPlot(topWords(6), 10, 'top-10 words rus speaker 2', 'top10_s2_rus')"
   ]
  },
  {
   "cell_type": "code",
   "execution_count": 12,
   "metadata": {},
   "outputs": [
    {
     "data": {
      "image/png": "[encoded data removed]",
      "text/plain": [
       "<Figure size 432x288 with 1 Axes>"
      ]
     },
     "metadata": {
      "needs_background": "light"
     },
     "output_type": "display_data"
    }
   ],
   "source": [
    "# top 10 words for the 2 speaker ykt\n",
    "# topPlot(topWords(7), 10, 'top-10 words ykt speaker 2', 'top10_s2_ykt')\n"
   ]
  },
  {
   "cell_type": "code",
   "execution_count": 3,
   "metadata": {},
   "outputs": [
    {
     "data": {
      "image/png": "[encoded data removed]",
      "text/plain": [
       "<Figure size 432x288 with 1 Axes>"
      ]
     },
     "metadata": {
      "needs_background": "light"
     },
     "output_type": "display_data"
    }
   ],
   "source": [
    "# top 10 words for the 2 speaker synt categories\n",
    "topPlot(topWords(4), 10, 'top-10 words synt speaker 1', 'top10_s1_synt')\n",
    "# topPlot(topWords(9), 10, 'top-10 words synt speaker 2', 'top10_s2_synt')\n",
    "# topPlot(topWords(14), 10, 'top-10 words synt speaker 3', 'top10_s3_synt')\n",
    "# topPlot(topWords(19), 10, 'top-10 words synt speaker 4', 'top10_s4_synt')"
   ]
  },
  {
   "cell_type": "code",
   "execution_count": null,
   "metadata": {},
   "outputs": [],
   "source": []
  },
  {
   "cell_type": "code",
   "execution_count": null,
   "metadata": {},
   "outputs": [],
   "source": []
  },
  {
   "cell_type": "code",
   "execution_count": 15,
   "metadata": {},
   "outputs": [
    {
     "data": {
      "image/png": "[encoded data removed]",
      "text/plain": [
       "<Figure size 432x288 with 1 Axes>"
      ]
     },
     "metadata": {
      "needs_background": "light"
     },
     "output_type": "display_data"
    }
   ],
   "source": [
    "# top 10 words for all speakers rus\n",
    "topPlot(bigCounter(1), 10, 'top-10 words rus all', 'top10_all_rus')"
   ]
  },
  {
   "cell_type": "code",
   "execution_count": 16,
   "metadata": {},
   "outputs": [
    {
     "data": {
      "image/png": "[encoded data removed]",
      "text/plain": [
       "<Figure size 432x288 with 1 Axes>"
      ]
     },
     "metadata": {
      "needs_background": "light"
     },
     "output_type": "display_data"
    }
   ],
   "source": [
    "# top 10 words for all speakers ykt\n",
    "topPlot(bigCounter(2), 10, 'top-10 words ykt all', 'top10_all_ykt')"
   ]
  },
  {
   "cell_type": "code",
   "execution_count": 17,
   "metadata": {},
   "outputs": [
    {
     "data": {
      "image/png": "[encoded data removed]",
      "text/plain": [
       "<Figure size 432x288 with 1 Axes>"
      ]
     },
     "metadata": {
      "needs_background": "light"
     },
     "output_type": "display_data"
    }
   ],
   "source": [
    "# top 10 words for all speakers synt\n",
    "topPlot(bigCounter(4), 10, 'top-10 words synt all', 'top10_all_synt')"
   ]
  },
  {
   "cell_type": "code",
   "execution_count": 16,
   "metadata": {},
   "outputs": [
    {
     "name": "stdout",
     "output_type": "stream",
     "text": [
      "Counter({'у': 3, 'короче': 2, 'я': 2, 'кубик': 2, 'ты': 2, 'серьезно': 2, 'вообще': 2, 'типа': 2, 'чт': 1, 'все': 1, 'одинаковые': 1, 'просто': 1, 'десять': 1, 'карточка': 1, 'деньш': 1, 'банкир': 1, 'и': 1, 'там': 1, 'себе': 1, 'давай': 1, 'чтобы=': 1, 'а': 1, 'нет': 1, 'одиннадцать': 1, 'два': 1, 'зона-попадос': 1, 'кстати': 1, 'это': 1, 'ой': 1, 'чтобы': 1, 'е': 1})\n"
     ]
    }
   ],
   "source": [
    "from praatio import tgio\n",
    "import collections\n",
    "import matplotlib.pyplot as plt\n",
    "from matplotlib import style\n",
    "import seaborn as sns\n",
    "\n",
    "def topWordsS(lan_num):\n",
    "    tg = tgio.openTextgrid('all_2.TextGrid')\n",
    "    lan = tg.tierDict[tg.tierNameList[lan_num]]\n",
    "#     synt = tg.tierDict[tg.tierNameList[lan_num]]\n",
    "    cs = tg.tierDict[tg.tierNameList[21]]\n",
    "#     cs_list = [entry for entry in cs.entryList]\n",
    "    rus_list = []\n",
    "    for point, label in cs.entryList:\n",
    "        if label == 'r':\n",
    "            rus_list.append(point)           \n",
    "    \n",
    "    words = []\n",
    "\n",
    "    for start, end, label in lan.entryList:        \n",
    "        if start in rus_list:\n",
    "            words.append(label)\n",
    "    counter = collections.Counter(words)\n",
    "    print(counter)\n",
    "#     return counter\n",
    "# topWordsS(14)\n",
    "\n",
    "topWordsS(1)\n",
    "\n",
    "# # bigCounter(1)"
   ]
  },
  {
   "cell_type": "code",
   "execution_count": 126,
   "metadata": {},
   "outputs": [
    {
     "name": "stdout",
     "output_type": "stream",
     "text": [
      "Counter({'сөп': 16, 'да': 12, 'дии': 12, 'индиин': 8, 'суох': 8, 'диибин': 6, 'диэн': 5, 'мин': 5, 'көр': 5, 'буотта': 4, 'уонна': 4, 'ылабын': 4, 'эбит': 3, 'икки': 3, 'буотах': 3, 'буолла': 3, 'көрүй': 3, 'биир': 2, 'а': 2, 'эн': 2, 'буолар': 2, 'диэ': 2, 'билигин': 2, 'bitch': 2, 'маннык': 2, 'диигин': 2, 'чэ': 2, 'миэхэ': 2, 'манна': 2, 'маны': 2, 'буолбутун': 2, 'лондонҥа': 2, 'буолбатах': 1, 'бу=': 1, 'түбэһэллэр': 1, 'буоллаҕына': 1, 'халлаантан': 1, 'аастын': 1, 'биэрин': 1, 'буола5ан': 1, 'төттерү': 1, 'тыыһыр': 1, 'эмиэ': 1, 'баттыыр': 1, 'бырахтын': 1, 'общественнойгын': 1, 'шанска': 1, 'диэбитэ': 1, 'хайыааҕым': 1, 'нью-йоркка': 1, 'курдук': 1, 'соҕус': 1, 'быраҕыҕын': 1, 'чугаһаатын': 1, 'бассар': 1, 'быҕылаахтык': 1, 'сурулла': 1, 'көрүҥҥүтүй': 1, 'оччоҕоно': 1, 'аҕайах': 1, 'эйиээхэ': 1, 'ааспытым': 1, 'барахсаанючка': 1, 'дуо': 1, 'үөрэтэбин': 1, '[нрзб]тээх': 1, 'хааман': 1, 'игин': 1, 'диэбиттэр': 1, 'тохтоо': 1, 'хайыыр': 1, 'төлөөн': 1, 'атын': 1, 'хаампаккын': 1, 'биэрэҕэн': 1, 'үс': 1, 'буллум': 1, 'баһаалыста': 1, 'биэрбэппим': 1, 'ол': 1, 'уону': 1, 'буолаары': 1, 'биэрэр': 1, 'сылдьабын': 1, 'саҥа': 1, 'ынырык': 1, 'туга': 1, 'хаалларан': 1, 'буолан': 1, 'плюска': 1, 'араҕастары': 1, 'уон': 1, 'этэ': 1, 'баттаабытын': 1, 'тө=': 1, 'тайбэйынын': 1, 'буоллаҕа': 1, 'космическай': 1, 'биһиги': 1, 'буолабыт': 1, 'этэбин': 1, 'онно': 1, 'эбээн': 1, 'буолуо': 1, 'миэ=': 1, 'кэбиһиий': 1, 'быраҕан': 1, 'тахсаан': 1})\n"
     ]
    }
   ],
   "source": [
    "def bigCounterS(num): \n",
    "    a = topWordsS(num) \n",
    "    for i in range(num + 5, num + 15, 5): \n",
    "        a.update(topWords(i))\n",
    "#     return a\n",
    "    print(a)\n",
    "#     b = 0\n",
    "#     for key, value in a.items():\n",
    "#         b += value\n",
    "# #     print(key, value)\n",
    "\n",
    "#     print(b)\n",
    "bigCounterS(2)"
   ]
  },
  {
   "cell_type": "code",
   "execution_count": 92,
   "metadata": {},
   "outputs": [
    {
     "name": "stdout",
     "output_type": "stream",
     "text": [
      "155\n"
     ]
    }
   ],
   "source": [
    "\n",
    "# filenames = ['game_1-885s_UPD.TextGrid', 'game_885-1785s_UPD.TextGrid', 'game_1785-2605s_UPD.TextGrid', 'game_2605-3500s_UPD.TextGrid', 'game_3500-4400_UPD.TextGrid', 'game_4400-5300_UPD.TextGrid']\n",
    "\n",
    "# def topWordsS(lan_num):\n",
    "#     rus_list = []\n",
    "#     lan_l = []\n",
    "#     cs_l = []\n",
    "#     words = []\n",
    "#     for filename in filenames:\n",
    "#         tg = tgio.openTextgrid(filename)\n",
    "#         lan = tg.tierDict[tg.tierNameList[lan_num]]\n",
    "# #         lan_l.extend(lan.entryList)\n",
    "# #     print(lan_l)\n",
    "# # #     synt = tg.tierDict[tg.tierNameList[lan_num]]\n",
    "\n",
    "#         cs = tg.tierDict[tg.tierNameList[21]]\n",
    "# #         cs_l.extend(lan.entryList)\n",
    "    \n",
    "# #     cs_list = [entry for entry in cs.entryList]\n",
    "# #     for item in cs_l:\n",
    "# #         print(item)\n",
    "#         for point, label in cs.entryList:\n",
    "#             if label == 'r':\n",
    "#                 print(point, label)\n",
    "#                 rus_list.append(point)     \n",
    "# #     for item in lan_l:\n",
    "#         for start, end, label in lan.entryList:        \n",
    "#             if start in rus_list:\n",
    "#                 words.append(label)\n",
    "#     counter = collections.Counter(words)\n",
    "#     return counter\n",
    "# #     print(counter)\n",
    "# #     print(words)"
   ]
  },
  {
   "cell_type": "code",
   "execution_count": 10,
   "metadata": {},
   "outputs": [
    {
     "data": {
      "image/png": "[encoded data removed]",
      "text/plain": [
       "<Figure size 432x288 with 1 Axes>"
      ]
     },
     "metadata": {
      "needs_background": "light"
     },
     "output_type": "display_data"
    }
   ],
   "source": [
    "# topPlot(topWordsS(4), 10, 'top-10 rus&synt s1', 'top10_s1_r&s')\n",
    "# topPlot(topWordsS(9), 10, 'top-10 rus&synt s2', 'top10_s2_r&s')\n",
    "# topPlot(topWordsS(14), 10, 'top-10 rus&synt s3', 'top10_s3_r&s')\n",
    "topPlot(topWordsS(19), 10, 'top-10 rus&synt s4', 'top10_s4_r&s')\n"
   ]
  },
  {
   "cell_type": "code",
   "execution_count": 2,
   "metadata": {},
   "outputs": [
    {
     "name": "stdout",
     "output_type": "stream",
     "text": [
      "Counter({'VP': 12, 'QP': 10, 'IC': 10, 'V': 8, 'MODP': 3, 'COORD': 2, 'ADVP': 2, 'PTCL': 2, 'Q': 1, 'MOD': 1, 'VP Q': 1, 'NP STOP': 1, 'CR N': 1, 'CR VP': 1, 'IDIOM': 1})\n"
     ]
    }
   ],
   "source": [
    "def topWordsS(lan_num):\n",
    "    tg = tgio.openTextgrid('all_2.TextGrid')\n",
    "    lan = tg.tierDict[tg.tierNameList[lan_num]]\n",
    "    synt = tg.tierDict[tg.tierNameList[lan_num]]\n",
    "    cs = tg.tierDict[tg.tierNameList[21]]\n",
    "#     cs_list = [entry for entry in cs.entryList]\n",
    "    rus_list = []\n",
    "    for point, label in cs.entryList:\n",
    "        if label == 'y':\n",
    "            rus_list.append(point)           \n",
    "    \n",
    "    words = []\n",
    "\n",
    "    for start, end, label in lan.entryList:        \n",
    "        if start in rus_list:\n",
    "            words.append(label)\n",
    "    counter = collections.Counter(words)\n",
    "    print(counter)\n",
    "#     return counter\n",
    "#     print(len(rus_list))\n",
    "    \n",
    "topWordsS(4)"
   ]
  },
  {
   "cell_type": "code",
   "execution_count": 17,
   "metadata": {},
   "outputs": [
    {
     "data": {
      "image/png": "[encoded data removed]",
      "text/plain": [
       "<Figure size 432x288 with 1 Axes>"
      ]
     },
     "metadata": {
      "needs_background": "light"
     },
     "output_type": "display_data"
    }
   ],
   "source": [
    "# topPlot(topWordsS(4), 10, 'top-10 ykt&synt s1', 'top10_s1_y&s')\n",
    "# topPlot(topWordsS(9), 10, 'top-10 ykt&synt s2', 'top10_s2_y&s')\n",
    "# topPlot(topWordsS(14), 10, 'top-10 ykt&synt s3', 'top10_s3_y&s')\n",
    "topPlot(topWordsS(19), 10, 'top-10 ykt&synt s4', 'top10_s4_y&s')"
   ]
  }
 ],
 "metadata": {
  "kernelspec": {
   "display_name": "Python 3",
   "language": "python",
   "name": "python3"
  },
  "language_info": {
   "codemirror_mode": {
    "name": "ipython",
    "version": 3
   },
   "file_extension": ".py",
   "mimetype": "text/x-python",
   "name": "python",
   "nbconvert_exporter": "python",
   "pygments_lexer": "ipython3",
   "version": "3.7.0"
  }
 },
 "nbformat": 4,
 "nbformat_minor": 2
}
